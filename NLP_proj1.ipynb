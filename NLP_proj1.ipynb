{
 "cells": [
  {
   "cell_type": "markdown",
   "metadata": {},
   "source": [
    "#### NLP Project 1\n",
    "\n",
    "- __This is First Natural Language Project__\n",
    "\n",
    "\n",
    "\n",
    "- _Import packages and libraries_"
   ]
  },
  {
   "cell_type": "code",
   "execution_count": 1,
   "metadata": {},
   "outputs": [],
   "source": [
    "import pandas as pd\n",
    "import numpy as np\n",
    "import matplotlib.pyplot as plt\n",
    "import seaborn as sns\n",
    "import tensorflow as tf\n",
    "import dill\n",
    "\n",
    "from sklearn.model_selection import train_test_split\n",
    "\n",
    "import tensorflow_hub as hub\n",
    "import tensorflow_datasets as tfds\n",
    "from tensorflow.keras.layers import Activation, Dense, Embedding\n",
    "from tensorflow.keras.optimizers import Adam\n",
    "from tensorflow.keras.preprocessing.text import Tokenizer\n",
    "from tensorflow.keras.preprocessing.sequence import pad_sequences\n",
    "from tensorflow.keras import Model, Sequential\n",
    "from tensorflow.keras.layers.experimental.preprocessing import TextVectorization\n",
    "from keras.models import Sequential\n",
    "from keras import layers\n",
    "\n",
    "import re\n",
    "import nltk\n",
    "import string\n",
    "from nltk.stem import WordNetLemmatizer\n",
    "from nltk.corpus import stopwords\n"
   ]
  },
  {
   "cell_type": "code",
   "execution_count": 2,
   "metadata": {},
   "outputs": [
    {
     "name": "stderr",
     "output_type": "stream",
     "text": [
      "[nltk_data] Downloading package stopwords to\n",
      "[nltk_data]     /Users/preethamvignesh/nltk_data...\n",
      "[nltk_data]   Package stopwords is already up-to-date!\n",
      "[nltk_data] Downloading package wordnet to\n",
      "[nltk_data]     /Users/preethamvignesh/nltk_data...\n",
      "[nltk_data]   Package wordnet is already up-to-date!\n",
      "[nltk_data] Downloading package punkt to\n",
      "[nltk_data]     /Users/preethamvignesh/nltk_data...\n",
      "[nltk_data]   Package punkt is already up-to-date!\n"
     ]
    },
    {
     "data": {
      "text/plain": [
       "True"
      ]
     },
     "execution_count": 2,
     "metadata": {},
     "output_type": "execute_result"
    }
   ],
   "source": [
    "nltk.download(\"stopwords\")\n",
    "stop_words = set(stopwords.words('english'))\n",
    "wordnet_lemmatizer = WordNetLemmatizer()\n",
    "nltk.download('wordnet')\n",
    "nltk.download(\"punkt\")"
   ]
  },
  {
   "cell_type": "markdown",
   "metadata": {},
   "source": [
    "**Cleaninf text, Normalize, and visualization**"
   ]
  },
  {
   "cell_type": "code",
   "execution_count": 3,
   "metadata": {},
   "outputs": [],
   "source": [
    "#Cleans Text\n",
    "def normalizer(tweet):\n",
    "    no_urls = re.sub(r\"http\\S+\", \" \" ,tweet)\n",
    "    only_letters = re.sub(\"[^a-zA-Z]\", \" \",no_urls)\n",
    "    tokens = nltk.word_tokenize(only_letters)[2 :]\n",
    "    lower_case = [l.lower() for l in tokens]\n",
    "    filtered_result = list(filter(lambda l: l not in stop_words, lower_case))\n",
    "    #lemmas = [wordnet_lemmatizer.lemmatize(t) for t in filtered_result]\n",
    "    return filtered_result\n",
    "\n",
    "#Generate Plots for Model\n",
    "def plot_graphs(history, metric):\n",
    "  plt.figure( figsize=(16,12))\n",
    "  plt.rcParams.update({'font.size': 22})\n",
    "  plt.plot(history.history[metric])\n",
    "  #plt.plot(history.history['val_'+metric], '')\n",
    "  plt.xlabel(\"Epochs\")\n",
    "  plt.ylabel(metric)\n",
    "  plt.legend([metric, 'val_'+metric])\n",
    "  plt.show()\n",
    "\n",
    "#make a prediction on input text\n",
    "def predict_on_text(text):\n",
    "  \n",
    "  test_text = np.array([text])\n",
    "  test_df =  pd.DataFrame(test_text, columns = ['text'])\n",
    "\n",
    "  test_df['normalized_tweet'] = test_df.text.apply(normalizer)\n",
    "  X = test_df[\"normalized_tweet\"].astype(str)\n",
    "\n",
    "  df = token.texts_to_sequences(X)\n",
    "\n",
    "  df = tf.keras.preprocessing.sequence.pad_sequences(df, maxlen=max_length)\n",
    "\n",
    "  prediction = np.round(model.predict(df)[0][0])\n",
    "\n",
    "  if prediction:\n",
    "\n",
    "    return \"This is about Sports.\"\n",
    "\n",
    "  else:\n",
    "\n",
    "    return \"This is not about Sports.\"\n",
    "\n",
    "# compute accuracy\n",
    "def accuracy(y, y_hat):\n",
    "\n",
    "  acc = np.mean(y == y_hat)\n",
    "\n",
    "  print('The accuracy is: ' + str(acc))\n",
    "\n",
    "#generates confusion matrix\n",
    "def confusionMatrix(ys,preds):\n",
    "    \n",
    "    N = len(ys)\n",
    "    #Generate empty matrix\n",
    "    confuse = np.zeros((2,2),dtype=int)\n",
    "    \n",
    "    #loop through both arrays\n",
    "    for i in range(N):\n",
    "    \n",
    "      #increase count in entry of each label\n",
    "      confuse[ys[i],int(preds[i])] = confuse[ys[i],int(preds[i])] + 1\n",
    "    \n",
    "    #return as dataframe\n",
    "    return pd.DataFrame(confuse)"
   ]
  },
  {
   "cell_type": "markdown",
   "metadata": {},
   "source": [
    "**Data Reading and Cleaning**\n",
    "\n",
    "- __The first label is a bad to good scale 1: Awful 2:Bad 3: Neutral 4:Good 5:Great.__ \n",
    "\n",
    "Priority is currently on a scale of 1- 4 with one being the least urgent. \n",
    "\n",
    "Type of tweet is about content 0: nonsense , 1: personal comments 2: news 3: religious 4: reviews 5: jokes and references 6: clickbait and soft news 7: advertisements 8: personal anecdotes 9: Talk about celeberties, movies ,etc 10: Questions 11: Sports"
   ]
  },
  {
   "cell_type": "code",
   "execution_count": 4,
   "metadata": {},
   "outputs": [
    {
     "data": {
      "text/plain": [
       "{'encoding': 'ISO-8859-1', 'confidence': 0.7251294678316124, 'language': ''}"
      ]
     },
     "execution_count": 4,
     "metadata": {},
     "output_type": "execute_result"
    }
   ],
   "source": [
    "#If you get any encode decode error while reading the csv file. So, determine the what type\n",
    "# of character is encoding \n",
    "\n",
    "import chardet\n",
    "file = \"/Users/preethamvignesh/Desktop/Work/ML_EIT/Data/600triple_labeled_tweets.csv\"\n",
    "with open(file, 'rb') as rawdata:\n",
    "    result = chardet.detect(rawdata.read(100000))\n",
    "result"
   ]
  },
  {
   "cell_type": "code",
   "execution_count": 5,
   "metadata": {},
   "outputs": [],
   "source": [
    "#uploaded = files.upload()\n",
    "\n",
    "df = pd.read_csv(file,encoding='ISO-8859-1')\n",
    "\n",
    "#map data labels to 0 or 1 \n",
    "# df.label = df[\"label\"].replace({\"not_sports\":0,\"sports\":1})\n",
    "\n",
    "#add cleaned data to the DataFrame\n",
    "df['Normalized_text'] = df.Text.apply(normalizer)\n",
    "\n",
    "#seperate X and y out as DataFrames\n",
    "X = df[\"Normalized_text\"].astype(str)\n",
    "y = df[\"Priority\"]"
   ]
  },
  {
   "cell_type": "code",
   "execution_count": 6,
   "metadata": {},
   "outputs": [
    {
     "data": {
      "text/html": [
       "<div>\n",
       "<style scoped>\n",
       "    .dataframe tbody tr th:only-of-type {\n",
       "        vertical-align: middle;\n",
       "    }\n",
       "\n",
       "    .dataframe tbody tr th {\n",
       "        vertical-align: top;\n",
       "    }\n",
       "\n",
       "    .dataframe thead th {\n",
       "        text-align: right;\n",
       "    }\n",
       "</style>\n",
       "<table border=\"1\" class=\"dataframe\">\n",
       "  <thead>\n",
       "    <tr style=\"text-align: right;\">\n",
       "      <th></th>\n",
       "      <th>Text</th>\n",
       "      <th>Good</th>\n",
       "      <th>Priority</th>\n",
       "      <th>Type</th>\n",
       "      <th>Normalized_text</th>\n",
       "    </tr>\n",
       "  </thead>\n",
       "  <tbody>\n",
       "    <tr>\n",
       "      <th>0</th>\n",
       "      <td>*screams in 25 different languages*</td>\n",
       "      <td>3</td>\n",
       "      <td>1</td>\n",
       "      <td>5</td>\n",
       "      <td>[different, languages]</td>\n",
       "    </tr>\n",
       "    <tr>\n",
       "      <th>1</th>\n",
       "      <td>Families to sue over Legionnaires: More than 4...</td>\n",
       "      <td>2</td>\n",
       "      <td>2</td>\n",
       "      <td>2</td>\n",
       "      <td>[sue, legionnaires, families, affected, fatal,...</td>\n",
       "    </tr>\n",
       "    <tr>\n",
       "      <th>2</th>\n",
       "      <td>Pandemonium In Aba As Woman Delivers Baby With...</td>\n",
       "      <td>2</td>\n",
       "      <td>1</td>\n",
       "      <td>6</td>\n",
       "      <td>[aba, woman, delivers, baby, without, face, ph...</td>\n",
       "    </tr>\n",
       "    <tr>\n",
       "      <th>3</th>\n",
       "      <td>My emotions are a train wreck. My body is a tr...</td>\n",
       "      <td>2</td>\n",
       "      <td>1</td>\n",
       "      <td>9</td>\n",
       "      <td>[train, wreck, body, train, wreck, wreck]</td>\n",
       "    </tr>\n",
       "    <tr>\n",
       "      <th>4</th>\n",
       "      <td>Alton brown just did a livestream and he burne...</td>\n",
       "      <td>4</td>\n",
       "      <td>1</td>\n",
       "      <td>1</td>\n",
       "      <td>[livestream, burned, butter, touched, hot, pla...</td>\n",
       "    </tr>\n",
       "  </tbody>\n",
       "</table>\n",
       "</div>"
      ],
      "text/plain": [
       "                                                Text  Good  Priority  Type  \\\n",
       "0                *screams in 25 different languages*     3         1     5   \n",
       "1  Families to sue over Legionnaires: More than 4...     2         2     2   \n",
       "2  Pandemonium In Aba As Woman Delivers Baby With...     2         1     6   \n",
       "3  My emotions are a train wreck. My body is a tr...     2         1     9   \n",
       "4  Alton brown just did a livestream and he burne...     4         1     1   \n",
       "\n",
       "                                     Normalized_text  \n",
       "0                             [different, languages]  \n",
       "1  [sue, legionnaires, families, affected, fatal,...  \n",
       "2  [aba, woman, delivers, baby, without, face, ph...  \n",
       "3          [train, wreck, body, train, wreck, wreck]  \n",
       "4  [livestream, burned, butter, touched, hot, pla...  "
      ]
     },
     "execution_count": 6,
     "metadata": {},
     "output_type": "execute_result"
    }
   ],
   "source": [
    "df.head()"
   ]
  },
  {
   "cell_type": "code",
   "execution_count": 7,
   "metadata": {},
   "outputs": [],
   "source": [
    "max_features = 50000 #we set maximum number of words to 5000\n",
    "max_length = 200 #we set maximum sequence length to 400\n",
    "embedding_dim = 100 \n",
    "\n",
    "token = tf.keras.preprocessing.text.Tokenizer(num_words=max_features) \n",
    "token.fit_on_texts(X)\n",
    "\n",
    "vocab_size = len(token.word_index) + 1 \n",
    "\n",
    "#conver X to a TensorFlow Type and add padding\n",
    "df = token.texts_to_sequences(X)\n",
    "df = tf.keras.preprocessing.sequence.pad_sequences(df, maxlen=max_length)"
   ]
  },
  {
   "cell_type": "markdown",
   "metadata": {},
   "source": [
    "**Split data into Train and Text**"
   ]
  },
  {
   "cell_type": "code",
   "execution_count": 8,
   "metadata": {},
   "outputs": [],
   "source": [
    "X_train, X_test, y_train, y_test = train_test_split(df, y,test_size=0.15,random_state=101)\n",
    "\n",
    "X_train, X_val, y_train, y_val = train_test_split(X_train, y_train, test_size=0.10, random_state=1)"
   ]
  },
  {
   "cell_type": "markdown",
   "metadata": {},
   "source": [
    "**Model Architecture (ANN)**"
   ]
  },
  {
   "cell_type": "code",
   "execution_count": 9,
   "metadata": {},
   "outputs": [
    {
     "name": "stdout",
     "output_type": "stream",
     "text": [
      "Model: \"sequential\"\n",
      "_________________________________________________________________\n",
      "Layer (type)                 Output Shape              Param #   \n",
      "=================================================================\n",
      "embedding (Embedding)        (None, 200, 100)          280800    \n",
      "_________________________________________________________________\n",
      "global_max_pooling1d (Global (None, 100)               0         \n",
      "_________________________________________________________________\n",
      "dense (Dense)                (None, 10)                1010      \n",
      "_________________________________________________________________\n",
      "dense_1 (Dense)              (None, 1)                 11        \n",
      "=================================================================\n",
      "Total params: 281,821\n",
      "Trainable params: 281,821\n",
      "Non-trainable params: 0\n",
      "_________________________________________________________________\n"
     ]
    }
   ],
   "source": [
    "model = Sequential()\n",
    "model.add(layers.Embedding(input_dim=vocab_size,\n",
    "                           output_dim=embedding_dim,\n",
    "                           input_length=max_length))\n",
    "# model.add(layers.Flatten())\n",
    "model.add(layers.GlobalMaxPool1D())\n",
    "model.add(layers.Dense(10,activation='relu'))\n",
    "model.add(layers.Dense(1,activation='sigmoid',kernel_initializer='uniform'))\n",
    "\n",
    "model.compile(optimizer=\"adam\",\n",
    "              loss='binary_crossentropy',metrics=[\"accuracy\"])\n",
    "\n",
    "model.summary()\n"
   ]
  },
  {
   "cell_type": "code",
   "execution_count": 10,
   "metadata": {},
   "outputs": [
    {
     "name": "stdout",
     "output_type": "stream",
     "text": [
      "('Failed to import pydot. You must `pip install pydot` and install graphviz (https://graphviz.gitlab.io/download/), ', 'for `pydotprint` to work.')\n"
     ]
    }
   ],
   "source": [
    "import keras.utils.vis_utils\n",
    "from keras.utils.vis_utils import plot_model    \n",
    "\n",
    "# plot_model(model, to_file='model_plot.png', show_shapes=True, show_layer_names=True)\n",
    "# plot_model(model, to_file='model.png')\n",
    "keras.utils.plot_model(model, show_shapes=True)"
   ]
  },
  {
   "cell_type": "markdown",
   "metadata": {},
   "source": [
    "**Load and Train the model**"
   ]
  },
  {
   "cell_type": "code",
   "execution_count": 11,
   "metadata": {},
   "outputs": [
    {
     "name": "stdout",
     "output_type": "stream",
     "text": [
      "Epoch 1/15\n",
      "8/8 [==============================] - 1s 11ms/step - loss: 0.6868 - accuracy: 0.7866\n",
      "Epoch 2/15\n",
      "8/8 [==============================] - 0s 11ms/step - loss: 0.6735 - accuracy: 0.7831\n",
      "Epoch 3/15\n",
      "8/8 [==============================] - 0s 10ms/step - loss: 0.6561 - accuracy: 0.7752\n",
      "Epoch 4/15\n",
      "8/8 [==============================] - 0s 13ms/step - loss: 0.6328 - accuracy: 0.7748\n",
      "Epoch 5/15\n",
      "8/8 [==============================] - 0s 11ms/step - loss: 0.6045 - accuracy: 0.7934\n",
      "Epoch 6/15\n",
      "8/8 [==============================] - 0s 11ms/step - loss: 0.5676 - accuracy: 0.8083\n",
      "Epoch 7/15\n",
      "8/8 [==============================] - 0s 10ms/step - loss: 0.5098 - accuracy: 0.7845\n",
      "Epoch 8/15\n",
      "8/8 [==============================] - 0s 10ms/step - loss: 0.4472 - accuracy: 0.7964\n",
      "Epoch 9/15\n",
      "8/8 [==============================] - 0s 10ms/step - loss: 0.3616 - accuracy: 0.7960\n",
      "Epoch 10/15\n",
      "8/8 [==============================] - 0s 12ms/step - loss: 0.2546 - accuracy: 0.7905\n",
      "Epoch 11/15\n",
      "8/8 [==============================] - 0s 10ms/step - loss: 0.1353 - accuracy: 0.7774\n",
      "Epoch 12/15\n",
      "8/8 [==============================] - 0s 10ms/step - loss: 0.0037 - accuracy: 0.7844\n",
      "Epoch 13/15\n",
      "8/8 [==============================] - 0s 10ms/step - loss: -0.1581 - accuracy: 0.7791\n",
      "Epoch 14/15\n",
      "8/8 [==============================] - 0s 10ms/step - loss: -0.2677 - accuracy: 0.7978\n",
      "Epoch 15/15\n",
      "8/8 [==============================] - 0s 10ms/step - loss: -0.4586 - accuracy: 0.7820\n"
     ]
    }
   ],
   "source": [
    "history = model.fit(np.array(X_train), np.array(y_train), batch_size=64,epochs=15) "
   ]
  },
  {
   "cell_type": "code",
   "execution_count": 12,
   "metadata": {},
   "outputs": [
    {
     "name": "stdout",
     "output_type": "stream",
     "text": [
      "3/3 [==============================] - 0s 3ms/step - loss: -0.4802 - accuracy: 0.8000\n"
     ]
    },
    {
     "data": {
      "text/plain": [
       "[-0.480210542678833, 0.800000011920929]"
      ]
     },
     "execution_count": 12,
     "metadata": {},
     "output_type": "execute_result"
    }
   ],
   "source": [
    "model.evaluate(X_test,y_test)"
   ]
  },
  {
   "cell_type": "code",
   "execution_count": 13,
   "metadata": {},
   "outputs": [
    {
     "data": {
      "text/plain": [
       "<Figure size 720x360 with 0 Axes>"
      ]
     },
     "metadata": {},
     "output_type": "display_data"
    },
    {
     "data": {
      "image/png": "[encoded data removed]",
      "text/plain": [
       "<Figure size 1152x864 with 1 Axes>"
      ]
     },
     "metadata": {
      "needs_background": "light"
     },
     "output_type": "display_data"
    },
    {
     "data": {
      "image/png": "[encoded data removed]",
      "text/plain": [
       "<Figure size 1152x864 with 1 Axes>"
      ]
     },
     "metadata": {
      "needs_background": "light"
     },
     "output_type": "display_data"
    }
   ],
   "source": [
    "#plot graphs for training\n",
    "plt.figure(figsize=(10,5))\n",
    "plot_graphs(history, 'accuracy')\n",
    "plot_graphs(history, 'loss')"
   ]
  },
  {
   "cell_type": "code",
   "execution_count": null,
   "metadata": {},
   "outputs": [],
   "source": []
  }
 ],
 "metadata": {
  "kernelspec": {
   "display_name": "Python 3",
   "language": "python",
   "name": "python3"
  },
  "language_info": {
   "codemirror_mode": {
    "name": "ipython",
    "version": 3
   },
   "file_extension": ".py",
   "mimetype": "text/x-python",
   "name": "python",
   "nbconvert_exporter": "python",
   "pygments_lexer": "ipython3",
   "version": "3.8.5"
  }
 },
 "nbformat": 4,
 "nbformat_minor": 4
}
