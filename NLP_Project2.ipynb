{
 "cells": [
  {
   "cell_type": "markdown",
   "metadata": {},
   "source": [
    "**Importing Libraries**"
   ]
  },
  {
   "cell_type": "code",
   "execution_count": 1,
   "metadata": {},
   "outputs": [
    {
     "name": "stderr",
     "output_type": "stream",
     "text": [
      "[nltk_data] Downloading package stopwords to\n",
      "[nltk_data]     /Users/preethamvignesh/nltk_data...\n",
      "[nltk_data]   Package stopwords is already up-to-date!\n",
      "[nltk_data] Downloading package wordnet to\n",
      "[nltk_data]     /Users/preethamvignesh/nltk_data...\n",
      "[nltk_data]   Package wordnet is already up-to-date!\n"
     ]
    }
   ],
   "source": [
    "import pandas as pd\n",
    "import numpy as np\n",
    "\n",
    "import nltk\n",
    "from sklearn import preprocessing \n",
    "from sklearn.utils import resample\n",
    "from sklearn.model_selection import train_test_split\n",
    "from sklearn.feature_extraction.text import CountVectorizer, TfidfVectorizer\n",
    "from sklearn.linear_model import LogisticRegression\n",
    "from sklearn.naive_bayes import MultinomialNB\n",
    "from sklearn.ensemble import RandomForestClassifier\n",
    "from sklearn import model_selection, svm\n",
    "from sklearn.metrics import accuracy_score\n",
    "from sklearn.metrics import classification_report\n",
    "from sklearn.metrics import confusion_matrix\n",
    "from sklearn import metrics, neighbors\n",
    "from sklearn.neighbors import KNeighborsClassifier\n",
    "\n",
    "import seaborn as sns\n",
    "from matplotlib import pyplot as plt\n",
    "from nltk.corpus import stopwords\n",
    "nltk.download('stopwords')\n",
    "from nltk.stem import WordNetLemmatizer \n",
    "nltk.download('wordnet')\n",
    "%matplotlib inline\n",
    "\n",
    "import os\n",
    "os.chdir('../NLP_group')\n",
    "# from normalization import normalize_corpus\n",
    "\n",
    "import warnings\n",
    "warnings.filterwarnings(\"ignore\")"
   ]
  },
  {
   "cell_type": "markdown",
   "metadata": {},
   "source": [
    "**Reading the Data**\n",
    "\n",
    "The first label is a bad to good scale 1: Awful 2:Bad 3: Neutral 4:Good 5:Great .\n",
    "\n",
    "Priority is currently on a scale of 1- 4 with one being the least urgent.\n",
    "\n",
    "Type of tweet is about content 0: nonsense , 1: personal comments 2: news 3: religious 4: reviews 5: jokes and references 6: clickbait and soft news 7: advertisements 8: personal anecdotes 9: Talk about celeberties, movies ,etc 10: Questions 11: Sports"
   ]
  },
  {
   "cell_type": "code",
   "execution_count": 2,
   "metadata": {},
   "outputs": [
    {
     "name": "stdout",
     "output_type": "stream",
     "text": [
      "<class 'pandas.core.frame.DataFrame'>\n",
      "RangeIndex: 1864 entries, 0 to 1863\n",
      "Data columns (total 4 columns):\n",
      " #   Column    Non-Null Count  Dtype  \n",
      "---  ------    --------------  -----  \n",
      " 0   Text      1864 non-null   object \n",
      " 1   Good      1864 non-null   int64  \n",
      " 2   Priority  1861 non-null   float64\n",
      " 3   Type      733 non-null    float64\n",
      "dtypes: float64(2), int64(1), object(1)\n",
      "memory usage: 58.4+ KB\n"
     ]
    }
   ],
   "source": [
    "df = pd.read_csv('../Data/Foreigner Tweets.csv', encoding='latin')\n",
    "df.info()"
   ]
  },
  {
   "cell_type": "code",
   "execution_count": 3,
   "metadata": {},
   "outputs": [
    {
     "data": {
      "text/html": [
       "<div>\n",
       "<style scoped>\n",
       "    .dataframe tbody tr th:only-of-type {\n",
       "        vertical-align: middle;\n",
       "    }\n",
       "\n",
       "    .dataframe tbody tr th {\n",
       "        vertical-align: top;\n",
       "    }\n",
       "\n",
       "    .dataframe thead th {\n",
       "        text-align: right;\n",
       "    }\n",
       "</style>\n",
       "<table border=\"1\" class=\"dataframe\">\n",
       "  <thead>\n",
       "    <tr style=\"text-align: right;\">\n",
       "      <th></th>\n",
       "      <th>Text</th>\n",
       "      <th>Good</th>\n",
       "      <th>Priority</th>\n",
       "      <th>Type</th>\n",
       "    </tr>\n",
       "  </thead>\n",
       "  <tbody>\n",
       "    <tr>\n",
       "      <th>0</th>\n",
       "      <td>*screams in 25 different languages*</td>\n",
       "      <td>3</td>\n",
       "      <td>1.0</td>\n",
       "      <td>5.0</td>\n",
       "    </tr>\n",
       "    <tr>\n",
       "      <th>1</th>\n",
       "      <td>Families to sue over Legionnaires: More than 4...</td>\n",
       "      <td>2</td>\n",
       "      <td>2.0</td>\n",
       "      <td>2.0</td>\n",
       "    </tr>\n",
       "    <tr>\n",
       "      <th>2</th>\n",
       "      <td>Pandemonium In Aba As Woman Delivers Baby With...</td>\n",
       "      <td>2</td>\n",
       "      <td>1.0</td>\n",
       "      <td>6.0</td>\n",
       "    </tr>\n",
       "    <tr>\n",
       "      <th>3</th>\n",
       "      <td>My emotions are a train wreck. My body is a tr...</td>\n",
       "      <td>2</td>\n",
       "      <td>1.0</td>\n",
       "      <td>9.0</td>\n",
       "    </tr>\n",
       "    <tr>\n",
       "      <th>4</th>\n",
       "      <td>Alton brown just did a livestream and he burne...</td>\n",
       "      <td>4</td>\n",
       "      <td>1.0</td>\n",
       "      <td>1.0</td>\n",
       "    </tr>\n",
       "  </tbody>\n",
       "</table>\n",
       "</div>"
      ],
      "text/plain": [
       "                                                Text  Good  Priority  Type\n",
       "0                *screams in 25 different languages*     3       1.0   5.0\n",
       "1  Families to sue over Legionnaires: More than 4...     2       2.0   2.0\n",
       "2  Pandemonium In Aba As Woman Delivers Baby With...     2       1.0   6.0\n",
       "3  My emotions are a train wreck. My body is a tr...     2       1.0   9.0\n",
       "4  Alton brown just did a livestream and he burne...     4       1.0   1.0"
      ]
     },
     "execution_count": 3,
     "metadata": {},
     "output_type": "execute_result"
    }
   ],
   "source": [
    "df.head()"
   ]
  },
  {
   "cell_type": "code",
   "execution_count": 4,
   "metadata": {},
   "outputs": [
    {
     "name": "stdout",
     "output_type": "stream",
     "text": [
      "1 5\n"
     ]
    }
   ],
   "source": [
    "print(min(df.Good),max(df.Good))"
   ]
  },
  {
   "cell_type": "markdown",
   "metadata": {},
   "source": [
    "**Data Cleaning**"
   ]
  },
  {
   "cell_type": "code",
   "execution_count": 5,
   "metadata": {},
   "outputs": [],
   "source": [
    "# Transform to lower:\n",
    "df.Text = df.Text.str.lower()\n",
    "#Remove urls:\n",
    "df.Text = df.Text.str.replace('http\\S+|www.\\S+', '', case=False)\n",
    "#Remove hashtag character\n",
    "df.Text = df.Text.str.replace('#', '', case=False)\n",
    "# Remove punctuation, special characters & mentions:\n",
    "df.Text = df.Text.str.replace(r'[^\\w\\s]', '', case=False)\n",
    "# #Remove stopwords:\n",
    "stop_words = set(stopwords.words('english'))\n",
    "df.Text = df.Text.apply(lambda x: ' '.join([word for word in x.split() if word not in (stop_words)]))\n",
    "#Remove non alphabetic words:\n",
    "df.Text = df.Text.apply(lambda x: ' '.join([word for word in x.split() if word.isalpha()]))\n",
    "#Remove emptys rows:\n",
    "df = df[df.Text != '']\n",
    "#Initiate a lemmatizer and lemmatize each word in the data\n",
    "lemmatizer = WordNetLemmatizer()\n",
    "df.Text = df.Text.apply(lambda x: ' '.join([lemmatizer.lemmatize(word) for word in x.split()]))\n"
   ]
  },
  {
   "cell_type": "markdown",
   "metadata": {},
   "source": [
    "Let's check if the cleaning seems okay:"
   ]
  },
  {
   "cell_type": "code",
   "execution_count": 6,
   "metadata": {},
   "outputs": [
    {
     "name": "stdout",
     "output_type": "stream",
     "text": [
      "0 : scream different language\n",
      "1 : family sue legionnaire family affected fatal outbreak legionnaire disea\n",
      "2 : pandemonium aba woman delivers baby without face photo\n",
      "3 : emotion train wreck body train wreck im wreck\n",
      "4 : alton brown livestream burned butter touched hot plate soon made nut joke\n"
     ]
    }
   ],
   "source": [
    "for i in range(0,5):\n",
    "    print(i,':',df.Text[i])   "
   ]
  },
  {
   "cell_type": "code",
   "execution_count": 7,
   "metadata": {},
   "outputs": [
    {
     "data": {
      "text/html": [
       "<div>\n",
       "<style scoped>\n",
       "    .dataframe tbody tr th:only-of-type {\n",
       "        vertical-align: middle;\n",
       "    }\n",
       "\n",
       "    .dataframe tbody tr th {\n",
       "        vertical-align: top;\n",
       "    }\n",
       "\n",
       "    .dataframe thead th {\n",
       "        text-align: right;\n",
       "    }\n",
       "</style>\n",
       "<table border=\"1\" class=\"dataframe\">\n",
       "  <thead>\n",
       "    <tr style=\"text-align: right;\">\n",
       "      <th></th>\n",
       "      <th>Text</th>\n",
       "      <th>Good</th>\n",
       "      <th>Priority</th>\n",
       "      <th>Type</th>\n",
       "    </tr>\n",
       "  </thead>\n",
       "  <tbody>\n",
       "    <tr>\n",
       "      <th>0</th>\n",
       "      <td>scream different language</td>\n",
       "      <td>3</td>\n",
       "      <td>1.0</td>\n",
       "      <td>5.0</td>\n",
       "    </tr>\n",
       "    <tr>\n",
       "      <th>1</th>\n",
       "      <td>family sue legionnaire family affected fatal o...</td>\n",
       "      <td>2</td>\n",
       "      <td>2.0</td>\n",
       "      <td>2.0</td>\n",
       "    </tr>\n",
       "    <tr>\n",
       "      <th>2</th>\n",
       "      <td>pandemonium aba woman delivers baby without fa...</td>\n",
       "      <td>2</td>\n",
       "      <td>1.0</td>\n",
       "      <td>6.0</td>\n",
       "    </tr>\n",
       "    <tr>\n",
       "      <th>3</th>\n",
       "      <td>emotion train wreck body train wreck im wreck</td>\n",
       "      <td>2</td>\n",
       "      <td>1.0</td>\n",
       "      <td>9.0</td>\n",
       "    </tr>\n",
       "    <tr>\n",
       "      <th>4</th>\n",
       "      <td>alton brown livestream burned butter touched h...</td>\n",
       "      <td>4</td>\n",
       "      <td>1.0</td>\n",
       "      <td>1.0</td>\n",
       "    </tr>\n",
       "  </tbody>\n",
       "</table>\n",
       "</div>"
      ],
      "text/plain": [
       "                                                Text  Good  Priority  Type\n",
       "0                          scream different language     3       1.0   5.0\n",
       "1  family sue legionnaire family affected fatal o...     2       2.0   2.0\n",
       "2  pandemonium aba woman delivers baby without fa...     2       1.0   6.0\n",
       "3      emotion train wreck body train wreck im wreck     2       1.0   9.0\n",
       "4  alton brown livestream burned butter touched h...     4       1.0   1.0"
      ]
     },
     "execution_count": 7,
     "metadata": {},
     "output_type": "execute_result"
    }
   ],
   "source": [
    "df.head()"
   ]
  },
  {
   "cell_type": "code",
   "execution_count": 8,
   "metadata": {},
   "outputs": [
    {
     "data": {
      "text/plain": [
       "Text(0.5, 1.0, 'Before sampling')"
      ]
     },
     "execution_count": 8,
     "metadata": {},
     "output_type": "execute_result"
    },
    {
     "data": {
      "image/png": "[encoded data removed]",
      "text/plain": [
       "<Figure size 432x288 with 1 Axes>"
      ]
     },
     "metadata": {
      "needs_background": "light"
     },
     "output_type": "display_data"
    }
   ],
   "source": [
    "# Encode labels in column 'category'.\n",
    "label_encoder = preprocessing.LabelEncoder() \n",
    "df['Good']= label_encoder.fit_transform(df['Good']) \n",
    "\n",
    "sns.countplot(df.Good)\n",
    "plt.xlabel('Good')\n",
    "plt.ylabel('count')\n",
    "plt.title('Before sampling')"
   ]
  },
  {
   "cell_type": "code",
   "execution_count": 9,
   "metadata": {},
   "outputs": [
    {
     "name": "stdout",
     "output_type": "stream",
     "text": [
      "0       2\n",
      "1       1\n",
      "2       1\n",
      "3       1\n",
      "4       3\n",
      "       ..\n",
      "1859    3\n",
      "1860    2\n",
      "1861    2\n",
      "1862    1\n",
      "1863    1\n",
      "Name: Good, Length: 1864, dtype: int64\n"
     ]
    }
   ],
   "source": [
    "print(df.Good)"
   ]
  },
  {
   "cell_type": "code",
   "execution_count": 10,
   "metadata": {},
   "outputs": [
    {
     "data": {
      "text/plain": [
       "Text(0.5, 1.0, 'After sampling')"
      ]
     },
     "execution_count": 10,
     "metadata": {},
     "output_type": "execute_result"
    },
    {
     "data": {
      "image/png": "[encoded data removed]",
      "text/plain": [
       "<Figure size 432x288 with 1 Axes>"
      ]
     },
     "metadata": {
      "needs_background": "light"
     },
     "output_type": "display_data"
    }
   ],
   "source": [
    "#Sampling the data\n",
    "\n",
    "df0 = df[df.Good==0]\n",
    "df1 = df[df.Good==1]\n",
    "df2 = df[df.Good==2]\n",
    "df3 = df[df.Good==3]\n",
    "\n",
    "samples = df.Good.value_counts().tolist()\n",
    "\n",
    "\n",
    "\n",
    "df0 = resample(df0, \n",
    "                   replace=True,   \n",
    "                   n_samples=samples[0], \n",
    "                   random_state=1130)\n",
    "df1 = resample(df1, \n",
    "                   replace=True,    \n",
    "                   n_samples=samples[1],\n",
    "                   random_state=123)\n",
    "df2 = resample(df2, \n",
    "                   replace=True,    \n",
    "                   n_samples=samples[2],\n",
    "                   random_state=123)\n",
    "df3 = resample(df3, \n",
    "                   replace=True,    \n",
    "                   n_samples=samples[3],\n",
    "                   random_state=123)\n",
    "\n",
    "\n",
    "df_sampled = pd.concat([df0,df1,df2,df3])\n",
    "\n",
    "df= df_sampled\n",
    "\n",
    "\n",
    "\n",
    "sns.countplot(df_sampled.Good)\n",
    "plt.xlabel('Good')\n",
    "plt.ylabel('count')\n",
    "plt.title('After sampling')"
   ]
  },
  {
   "cell_type": "markdown",
   "metadata": {},
   "source": [
    "**Feature Extraction using Bag of words**"
   ]
  },
  {
   "cell_type": "code",
   "execution_count": 11,
   "metadata": {},
   "outputs": [],
   "source": [
    "training_set, test_set, training_labels, test_labels = train_test_split(df[\"Text\"], df[\"Good\"], test_size=0.2, random_state=42)"
   ]
  },
  {
   "cell_type": "code",
   "execution_count": 12,
   "metadata": {},
   "outputs": [
    {
     "data": {
      "text/plain": [
       "((1489,), (373,), (1489,), (373,))"
      ]
     },
     "execution_count": 12,
     "metadata": {},
     "output_type": "execute_result"
    }
   ],
   "source": [
    "training_set.shape, test_set.shape, training_labels.shape, test_labels.shape"
   ]
  },
  {
   "cell_type": "markdown",
   "metadata": {},
   "source": [
    "**BAG OF WORDS**"
   ]
  },
  {
   "cell_type": "code",
   "execution_count": 13,
   "metadata": {},
   "outputs": [],
   "source": [
    "#Bag of words\n",
    "vectorizer = CountVectorizer(min_df =2, ngram_range=(2,2))\n",
    "bow_train_features = vectorizer.fit_transform(training_set)\n",
    "bow_test_features = vectorizer.transform(test_set)"
   ]
  },
  {
   "cell_type": "markdown",
   "metadata": {},
   "source": [
    "**Classification using Bag of words features**\n",
    "\n",
    "**LOGISTIC REGRESSION**"
   ]
  },
  {
   "cell_type": "code",
   "execution_count": 14,
   "metadata": {},
   "outputs": [
    {
     "name": "stdout",
     "output_type": "stream",
     "text": [
      "Logistic Regression using Bag of words\n",
      "\n",
      "Accuracy:  83.10991957104558 \n",
      "\n",
      "Classification Report\n",
      "\n",
      "              precision    recall  f1-score   support\n",
      "\n",
      "           0       0.99      1.00      1.00       188\n",
      "           1       0.64      0.99      0.77       109\n",
      "           2       1.00      0.22      0.36        63\n",
      "           3       0.00      0.00      0.00        13\n",
      "\n",
      "    accuracy                           0.83       373\n",
      "   macro avg       0.66      0.55      0.53       373\n",
      "weighted avg       0.86      0.83      0.79       373\n",
      "\n"
     ]
    },
    {
     "data": {
      "image/png": "[encoded data removed]",
      "text/plain": [
       "<Figure size 432x288 with 2 Axes>"
      ]
     },
     "metadata": {
      "needs_background": "light"
     },
     "output_type": "display_data"
    }
   ],
   "source": [
    "#Logistic Regression\n",
    "\n",
    "logRegModel = LogisticRegression()\n",
    "logRegModel.fit(bow_train_features,training_labels)\n",
    "\n",
    "predictions_lr = logRegModel.predict(bow_test_features)\n",
    "\n",
    "print(\"Logistic Regression using Bag of words\\n\")\n",
    "accrcy = accuracy_score(predictions_lr, test_labels)*100\n",
    "print(\"Accuracy: \",accuracy_score(predictions_lr, test_labels)*100,\"\\n\")\n",
    "\n",
    "print(\"Classification Report\\n\")\n",
    "print(classification_report(test_labels,predictions_lr))\n",
    "\n",
    "#Plotting the confusion matrix\n",
    "cm = confusion_matrix(test_labels, predictions_lr)\n",
    "ax= plt.subplot()\n",
    "sns.heatmap(cm, annot=True, ax = ax); #annot=True to annotate cells\n",
    "\n",
    "# labels, title and ticks\n",
    "ax.set_xlabel('Predicted labels');ax.set_ylabel('True labels'); \n",
    "# ax.set_title('Confusion Matrix'); \n",
    "ax.xaxis.set_ticklabels(['Awful', 'Bad','Neutral','good'],rotation =45); \n",
    "ax.yaxis.set_ticklabels(['Awful', 'Bad','Neutral','good'],rotation =45);\n"
   ]
  },
  {
   "cell_type": "code",
   "execution_count": 15,
   "metadata": {},
   "outputs": [
    {
     "data": {
      "text/html": [
       "<div>\n",
       "<style scoped>\n",
       "    .dataframe tbody tr th:only-of-type {\n",
       "        vertical-align: middle;\n",
       "    }\n",
       "\n",
       "    .dataframe tbody tr th {\n",
       "        vertical-align: top;\n",
       "    }\n",
       "\n",
       "    .dataframe thead th {\n",
       "        text-align: right;\n",
       "    }\n",
       "</style>\n",
       "<table border=\"1\" class=\"dataframe\">\n",
       "  <thead>\n",
       "    <tr style=\"text-align: right;\">\n",
       "      <th></th>\n",
       "      <th>Method</th>\n",
       "      <th>Accuracy</th>\n",
       "    </tr>\n",
       "  </thead>\n",
       "  <tbody>\n",
       "    <tr>\n",
       "      <th>1</th>\n",
       "      <td>Logistic Regression</td>\n",
       "      <td>83.10992</td>\n",
       "    </tr>\n",
       "  </tbody>\n",
       "</table>\n",
       "</div>"
      ],
      "text/plain": [
       "                Method  Accuracy\n",
       "1  Logistic Regression  83.10992"
      ]
     },
     "execution_count": 15,
     "metadata": {},
     "output_type": "execute_result"
    }
   ],
   "source": [
    "#store the model results for each model data frame for final comparison\n",
    "results_temp = pd.DataFrame({'Method':['Logistic Regression'],'Accuracy':accrcy},index={'1'})\n",
    "# results = pd.concat([results,results_temp])\n",
    "results = results_temp[['Method','Accuracy']]\n",
    "\n",
    "results"
   ]
  },
  {
   "cell_type": "markdown",
   "metadata": {},
   "source": [
    "**NAIVE BAYES (NB)**"
   ]
  },
  {
   "cell_type": "code",
   "execution_count": 16,
   "metadata": {},
   "outputs": [
    {
     "name": "stdout",
     "output_type": "stream",
     "text": [
      "MultiNomial Naive Bayes using Bag of words\n",
      "\n",
      "Accuracy:  61.3941018766756 \n",
      "\n",
      "Classification Report\n",
      "\n",
      "              precision    recall  f1-score   support\n",
      "\n",
      "           0       0.58      1.00      0.73       188\n",
      "           1       0.83      0.23      0.36       109\n",
      "           2       0.89      0.25      0.40        63\n",
      "           3       0.00      0.00      0.00        13\n",
      "\n",
      "    accuracy                           0.61       373\n",
      "   macro avg       0.58      0.37      0.37       373\n",
      "weighted avg       0.69      0.61      0.54       373\n",
      "\n"
     ]
    },
    {
     "data": {
      "image/png": "[encoded data removed]",
      "text/plain": [
       "<Figure size 432x288 with 2 Axes>"
      ]
     },
     "metadata": {
      "needs_background": "light"
     },
     "output_type": "display_data"
    }
   ],
   "source": [
    "#Naive Bayes\n",
    "mnb = MultinomialNB()\n",
    "mnb.fit(bow_train_features,training_labels)\n",
    "\n",
    "predictions_mnb = mnb.predict(bow_test_features)\n",
    "\n",
    "print(\"MultiNomial Naive Bayes using Bag of words\\n\")\n",
    "accrcy = accuracy_score(predictions_mnb, test_labels)*100\n",
    "print(\"Accuracy: \",accuracy_score(predictions_mnb, test_labels)*100,\"\\n\")\n",
    "\n",
    "print(\"Classification Report\\n\")\n",
    "print(classification_report(test_labels,predictions_mnb))\n",
    "\n",
    "\n",
    "#Plotting the confusion matrix\n",
    "cm = confusion_matrix(test_labels, predictions_mnb)\n",
    "ax= plt.subplot()\n",
    "sns.heatmap(cm, annot=True, ax = ax); #annot=True to annotate cells\n",
    "\n",
    "# labels, title and ticks\n",
    "ax.set_xlabel('Predicted labels');ax.set_ylabel('True labels'); \n",
    "# ax.set_title('Confusion Matrix'); \n",
    "ax.xaxis.set_ticklabels(['Awful', 'Bad','Neutral','good'],rotation =45); \n",
    "ax.yaxis.set_ticklabels(['Awful', 'Bad','Neutral','good'],rotation =45);"
   ]
  },
  {
   "cell_type": "code",
   "execution_count": 17,
   "metadata": {},
   "outputs": [
    {
     "data": {
      "text/html": [
       "<div>\n",
       "<style scoped>\n",
       "    .dataframe tbody tr th:only-of-type {\n",
       "        vertical-align: middle;\n",
       "    }\n",
       "\n",
       "    .dataframe tbody tr th {\n",
       "        vertical-align: top;\n",
       "    }\n",
       "\n",
       "    .dataframe thead th {\n",
       "        text-align: right;\n",
       "    }\n",
       "</style>\n",
       "<table border=\"1\" class=\"dataframe\">\n",
       "  <thead>\n",
       "    <tr style=\"text-align: right;\">\n",
       "      <th></th>\n",
       "      <th>Method</th>\n",
       "      <th>Accuracy</th>\n",
       "    </tr>\n",
       "  </thead>\n",
       "  <tbody>\n",
       "    <tr>\n",
       "      <th>1</th>\n",
       "      <td>Logistic Regression</td>\n",
       "      <td>83.109920</td>\n",
       "    </tr>\n",
       "    <tr>\n",
       "      <th>2</th>\n",
       "      <td>Naive Bayes</td>\n",
       "      <td>61.394102</td>\n",
       "    </tr>\n",
       "  </tbody>\n",
       "</table>\n",
       "</div>"
      ],
      "text/plain": [
       "                Method   Accuracy\n",
       "1  Logistic Regression  83.109920\n",
       "2          Naive Bayes  61.394102"
      ]
     },
     "execution_count": 17,
     "metadata": {},
     "output_type": "execute_result"
    }
   ],
   "source": [
    "#store the model results for each model data frame for final comparison\n",
    "results_temp = pd.DataFrame({'Method':['Naive Bayes'],'Accuracy':accrcy},index={'2'})\n",
    "results = pd.concat([results,results_temp])\n",
    "results = results[['Method','Accuracy']]\n",
    "\n",
    "results"
   ]
  },
  {
   "cell_type": "markdown",
   "metadata": {},
   "source": [
    "**RANDOM FOREST (RF)**"
   ]
  },
  {
   "cell_type": "code",
   "execution_count": 18,
   "metadata": {},
   "outputs": [
    {
     "name": "stdout",
     "output_type": "stream",
     "text": [
      "Random Forest using Bag of words\n",
      "\n",
      "Accuracy:  83.10991957104558 \n",
      "\n",
      "Classification Report\n",
      "\n",
      "              precision    recall  f1-score   support\n",
      "\n",
      "           0       0.99      1.00      1.00       188\n",
      "           1       0.64      0.98      0.77       109\n",
      "           2       0.94      0.24      0.38        63\n",
      "           3       0.00      0.00      0.00        13\n",
      "\n",
      "    accuracy                           0.83       373\n",
      "   macro avg       0.64      0.55      0.54       373\n",
      "weighted avg       0.85      0.83      0.79       373\n",
      "\n"
     ]
    },
    {
     "data": {
      "text/plain": [
       "<Figure size 432x288 with 0 Axes>"
      ]
     },
     "metadata": {},
     "output_type": "display_data"
    },
    {
     "data": {
      "image/png": "[encoded data removed]",
      "text/plain": [
       "<Figure size 576x576 with 1 Axes>"
      ]
     },
     "metadata": {
      "needs_background": "light"
     },
     "output_type": "display_data"
    }
   ],
   "source": [
    "#Random Forest\n",
    "rfc = RandomForestClassifier(n_estimators=5)\n",
    "rfc.fit(bow_train_features,training_labels)\n",
    "\n",
    "predictions_rfc = rfc.predict(bow_test_features)\n",
    "\n",
    "print(\"Random Forest using Bag of words\\n\")\n",
    "accrcy = accuracy_score(predictions_rfc, test_labels)*100\n",
    "print(\"Accuracy: \",accuracy_score(predictions_rfc, test_labels)*100,\"\\n\")\n",
    "\n",
    "print(\"Classification Report\\n\")\n",
    "print(classification_report(test_labels,predictions_rfc))\n",
    "\n",
    "\n",
    "#Plotting the confusion matrix\n",
    "cm = confusion_matrix(test_labels, predictions_rfc)\n",
    "# ax= plt.subplot()\n",
    "# sns.heatmap(cm, annot=True, ax = ax); #annot=True to annotate cells\n",
    "\n",
    "#different way expressing the confusion matrix plot\n",
    "%run -i '/Users/preethamvignesh/Desktop/Work/ML_EIT/Github/confusion_matrix_different_ways.py'\n",
    "df_confmatrx = pd.DataFrame(cm, range(4),range(4))\n",
    "df_confmatrx\n",
    "cmap = 'flare'\n",
    "confusion_matrix_dfrntway(df_confmatrx, cmap=cmap,fz=17)\n",
    "\n",
    "# labels, title and ticks\n",
    "ax.set_xlabel('Predicted labels');ax.set_ylabel('True labels'); \n",
    "# ax.set_title('Confusion Matrix'); \n",
    "ax.xaxis.set_ticklabels(['Awful', 'Bad','Neutral','good'],rotation =45); \n",
    "ax.yaxis.set_ticklabels(['Awful', 'Bad','Neutral','good'],rotation =45);"
   ]
  },
  {
   "cell_type": "code",
   "execution_count": 19,
   "metadata": {},
   "outputs": [
    {
     "data": {
      "text/html": [
       "<div>\n",
       "<style scoped>\n",
       "    .dataframe tbody tr th:only-of-type {\n",
       "        vertical-align: middle;\n",
       "    }\n",
       "\n",
       "    .dataframe tbody tr th {\n",
       "        vertical-align: top;\n",
       "    }\n",
       "\n",
       "    .dataframe thead th {\n",
       "        text-align: right;\n",
       "    }\n",
       "</style>\n",
       "<table border=\"1\" class=\"dataframe\">\n",
       "  <thead>\n",
       "    <tr style=\"text-align: right;\">\n",
       "      <th></th>\n",
       "      <th>Method</th>\n",
       "      <th>Accuracy</th>\n",
       "    </tr>\n",
       "  </thead>\n",
       "  <tbody>\n",
       "    <tr>\n",
       "      <th>1</th>\n",
       "      <td>Logistic Regression</td>\n",
       "      <td>83.109920</td>\n",
       "    </tr>\n",
       "    <tr>\n",
       "      <th>2</th>\n",
       "      <td>Naive Bayes</td>\n",
       "      <td>61.394102</td>\n",
       "    </tr>\n",
       "    <tr>\n",
       "      <th>3</th>\n",
       "      <td>Random Forest</td>\n",
       "      <td>83.109920</td>\n",
       "    </tr>\n",
       "  </tbody>\n",
       "</table>\n",
       "</div>"
      ],
      "text/plain": [
       "                Method   Accuracy\n",
       "1  Logistic Regression  83.109920\n",
       "2          Naive Bayes  61.394102\n",
       "3        Random Forest  83.109920"
      ]
     },
     "execution_count": 19,
     "metadata": {},
     "output_type": "execute_result"
    }
   ],
   "source": [
    "#store the model results for each model data frame for final comparison\n",
    "results_temp = pd.DataFrame({'Method':['Random Forest'],'Accuracy':accrcy},index={'3'})\n",
    "results = pd.concat([results,results_temp])\n",
    "results = results[['Method','Accuracy']]\n",
    "\n",
    "results"
   ]
  },
  {
   "cell_type": "markdown",
   "metadata": {},
   "source": [
    "**SUPPORT VECTOR MACHINES (SVM)**"
   ]
  },
  {
   "cell_type": "code",
   "execution_count": 20,
   "metadata": {},
   "outputs": [
    {
     "name": "stdout",
     "output_type": "stream",
     "text": [
      "Support Vector Machine using Bag of words\n",
      "\n",
      "Test data Accuracy:  82.84182305630027 \n",
      "\n",
      "Classification Report\n",
      "\n",
      "              precision    recall  f1-score   support\n",
      "\n",
      "           0       0.99      1.00      1.00       188\n",
      "           1       0.63      0.99      0.77       109\n",
      "           2       1.00      0.21      0.34        63\n",
      "           3       0.00      0.00      0.00        13\n",
      "\n",
      "    accuracy                           0.83       373\n",
      "   macro avg       0.66      0.55      0.53       373\n",
      "weighted avg       0.85      0.83      0.79       373\n",
      "\n"
     ]
    },
    {
     "data": {
      "text/plain": [
       "<Figure size 432x288 with 0 Axes>"
      ]
     },
     "metadata": {},
     "output_type": "display_data"
    },
    {
     "data": {
      "image/png": "[encoded data removed]",
      "text/plain": [
       "<Figure size 576x576 with 1 Axes>"
      ]
     },
     "metadata": {
      "needs_background": "light"
     },
     "output_type": "display_data"
    }
   ],
   "source": [
    "SVM = svm.SVC(C=1.0, kernel='linear', degree=3, gamma='auto')\n",
    "SVM.fit(bow_train_features,training_labels)\n",
    "\n",
    "#For predictions for testing set\n",
    "predictions_SVM = SVM.predict(bow_test_features)\n",
    "\n",
    "#Calculate testing accuracy\n",
    "print(\"Support Vector Machine using Bag of words\\n\")\n",
    "accrcy = accuracy_score(predictions_SVM, test_labels)*100\n",
    "print(\"Test data Accuracy: \",accuracy_score(predictions_SVM, test_labels)*100,\"\\n\")\n",
    "\n",
    "print(\"Classification Report\\n\")\n",
    "print(classification_report(test_labels,predictions_SVM))\n",
    "\n",
    "#Plotting the confusion matrix\n",
    "cm = confusion_matrix(test_labels, predictions_SVM)\n",
    "# ax= plt.subplot()\n",
    "# sns.heatmap(cm, annot=True, ax = ax); #annot=True to annotate cells\n",
    "\n",
    "#different way expressing the confusion matrix plot\n",
    "%run -i '/Users/preethamvignesh/Desktop/Work/ML_EIT/Github/confusion_matrix_different_ways.py'\n",
    "df_confmatrx = pd.DataFrame(cm, range(4),range(4))\n",
    "df_confmatrx\n",
    "cmap = 'PuRd'\n",
    "confusion_matrix_dfrntway(df_confmatrx, cmap=cmap,fz=17)\n",
    "\n",
    "# labels, title and ticks\n",
    "ax.set_xlabel('Predicted labels');ax.set_ylabel('True labels'); \n",
    "# ax.set_title('Confusion Matrix');\n",
    "ax.xaxis.set_ticklabels(['Awful', 'Bad','Neutral','good'],rotation =45); \n",
    "ax.yaxis.set_ticklabels(['Awful', 'Bad','Neutral','good'],rotation =45);"
   ]
  },
  {
   "cell_type": "code",
   "execution_count": 21,
   "metadata": {},
   "outputs": [
    {
     "data": {
      "text/html": [
       "<div>\n",
       "<style scoped>\n",
       "    .dataframe tbody tr th:only-of-type {\n",
       "        vertical-align: middle;\n",
       "    }\n",
       "\n",
       "    .dataframe tbody tr th {\n",
       "        vertical-align: top;\n",
       "    }\n",
       "\n",
       "    .dataframe thead th {\n",
       "        text-align: right;\n",
       "    }\n",
       "</style>\n",
       "<table border=\"1\" class=\"dataframe\">\n",
       "  <thead>\n",
       "    <tr style=\"text-align: right;\">\n",
       "      <th></th>\n",
       "      <th>Method</th>\n",
       "      <th>Accuracy</th>\n",
       "    </tr>\n",
       "  </thead>\n",
       "  <tbody>\n",
       "    <tr>\n",
       "      <th>1</th>\n",
       "      <td>Logistic Regression</td>\n",
       "      <td>83.109920</td>\n",
       "    </tr>\n",
       "    <tr>\n",
       "      <th>2</th>\n",
       "      <td>Naive Bayes</td>\n",
       "      <td>61.394102</td>\n",
       "    </tr>\n",
       "    <tr>\n",
       "      <th>3</th>\n",
       "      <td>Random Forest</td>\n",
       "      <td>83.109920</td>\n",
       "    </tr>\n",
       "    <tr>\n",
       "      <th>4</th>\n",
       "      <td>Support Vector Machine</td>\n",
       "      <td>82.841823</td>\n",
       "    </tr>\n",
       "  </tbody>\n",
       "</table>\n",
       "</div>"
      ],
      "text/plain": [
       "                   Method   Accuracy\n",
       "1     Logistic Regression  83.109920\n",
       "2             Naive Bayes  61.394102\n",
       "3           Random Forest  83.109920\n",
       "4  Support Vector Machine  82.841823"
      ]
     },
     "execution_count": 21,
     "metadata": {},
     "output_type": "execute_result"
    }
   ],
   "source": [
    "#store the model results for each model data frame for final comparison\n",
    "results_temp = pd.DataFrame({'Method':['Support Vector Machine'],'Accuracy':accrcy},index={'4'})\n",
    "results = pd.concat([results,results_temp])\n",
    "results = results[['Method','Accuracy']]\n",
    "\n",
    "results"
   ]
  },
  {
   "cell_type": "code",
   "execution_count": 22,
   "metadata": {},
   "outputs": [],
   "source": [
    "# #GradientBoostingRegressor\n",
    "# gbr = GradientBoostingRegressor()\n",
    "# gbr.fit(bow_train_features,training_labels)\n",
    "\n",
    "# #For predictions for testing set\n",
    "# predictions_gbr = gbr.predict(bow_test_features)\n",
    "\n",
    "# from numpy import mean\n",
    "# from numpy import std\n",
    "# # predictions_gbr\n",
    "# # test_labels.unique()\n",
    "# # print('MAE: %.3f (%.3f)' % (mean(predictions_gbr), std(predictions_gbr)))\n",
    "# # #Calculate testing accuracy\n",
    "# # print(\"Support Vector Machine using Bag of words\\n\")\n",
    "# # accrcy = accuracy_score(predictions_gbr, test_labels)*100\n",
    "# # print(\"Test data Accuracy: \",accuracy_score(predictions_gbr, test_labels)*100,\"\\n\")\n"
   ]
  },
  {
   "cell_type": "code",
   "execution_count": null,
   "metadata": {},
   "outputs": [],
   "source": []
  },
  {
   "cell_type": "code",
   "execution_count": 23,
   "metadata": {},
   "outputs": [
    {
     "data": {
      "text/plain": [
       "((1489, 1411), (1489,))"
      ]
     },
     "execution_count": 23,
     "metadata": {},
     "output_type": "execute_result"
    }
   ],
   "source": [
    "# plt.figure()\n",
    "# plt.scatter(bow_train_features[:,0],bow_train_features[:,1], c=training_labels, alpha=0.25)\n",
    "bow_train_features.shape,training_labels.shape"
   ]
  },
  {
   "cell_type": "code",
   "execution_count": 24,
   "metadata": {},
   "outputs": [
    {
     "data": {
      "text/plain": [
       "(1489, 1)"
      ]
     },
     "execution_count": 24,
     "metadata": {},
     "output_type": "execute_result"
    }
   ],
   "source": [
    "trial = bow_train_features[:,0]\n",
    "trial.shape"
   ]
  },
  {
   "cell_type": "code",
   "execution_count": null,
   "metadata": {},
   "outputs": [],
   "source": []
  },
  {
   "cell_type": "code",
   "execution_count": null,
   "metadata": {},
   "outputs": [],
   "source": []
  }
 ],
 "metadata": {
  "kernelspec": {
   "display_name": "Python 3",
   "language": "python",
   "name": "python3"
  },
  "language_info": {
   "codemirror_mode": {
    "name": "ipython",
    "version": 3
   },
   "file_extension": ".py",
   "mimetype": "text/x-python",
   "name": "python",
   "nbconvert_exporter": "python",
   "pygments_lexer": "ipython3",
   "version": "3.8.5"
  }
 },
 "nbformat": 4,
 "nbformat_minor": 4
}
