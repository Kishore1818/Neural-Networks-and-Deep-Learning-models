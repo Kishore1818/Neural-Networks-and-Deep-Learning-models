{
 "cells": [
  {
   "cell_type": "markdown",
   "metadata": {},
   "source": [
    "#### Natural Language Processing (NLP) with BERT\n",
    "\n",
    "- __Install packages__"
   ]
  },
  {
   "cell_type": "raw",
   "metadata": {
    "colab": {
     "base_uri": "https://localhost:8080/"
    },
    "id": "c0LNDaSElooN",
    "outputId": "a0704577-5b5f-4c75-be2c-e71df210c8c4"
   },
   "source": [
    "!pip install bert-for-tf2\n",
    "!pip install sentencepiece"
   ]
  },
  {
   "cell_type": "markdown",
   "metadata": {},
   "source": [
    "- __Import Libraries__"
   ]
  },
  {
   "cell_type": "code",
   "execution_count": 1,
   "metadata": {
    "id": "DRBtY63IlzjQ"
   },
   "outputs": [],
   "source": [
    "import numpy as np\n",
    "import pandas as pd\n",
    "import matplotlib.pyplot as plt\n",
    "import tensorflow as tf\n",
    "\n",
    "import string\n",
    "import re\n",
    "\n",
    "import tensorflow_hub as hub\n",
    "from tensorflow.keras import layers\n",
    "import bert\n",
    "\n",
    "from tensorflow.keras.layers import Input\n",
    "from tensorflow.keras.layers import Dense\n",
    "from tensorflow.keras.models import Model\n",
    "from tensorflow.keras.optimizers import Adam\n",
    "\n",
    "import warnings\n",
    "warnings.filterwarnings(\"ignore\")"
   ]
  },
  {
   "cell_type": "code",
   "execution_count": 2,
   "metadata": {},
   "outputs": [
    {
     "name": "stdout",
     "output_type": "stream",
     "text": [
      "Device mapping: no known devices.\n"
     ]
    }
   ],
   "source": [
    "from tensorflow.compat.v1.keras.backend import set_session\n",
    "config = tf.compat.v1.ConfigProto()\n",
    "config.gpu_options.allow_growth = True  # dynamically grow the memory used on the GPU\n",
    "config.log_device_placement = True  # to log device placement (on which device the operation ran)\n",
    "sess = tf.compat.v1.Session(config=config)\n",
    "set_session(sess)"
   ]
  },
  {
   "cell_type": "code",
   "execution_count": 3,
   "metadata": {
    "id": "_WMJonAdRPCk"
   },
   "outputs": [],
   "source": [
    "def plotLoss(history):\n",
    "\n",
    "  plt.plot(history.history['loss'])\n",
    "  plt.plot(history.history['val_loss'])\n",
    "  plt.title('model loss')\n",
    "  plt.ylabel('loss')\n",
    "  plt.xlabel('epoch')\n",
    "  plt.legend(['train', 'validation'], loc='upper left')\n",
    "  plt.show()"
   ]
  },
  {
   "cell_type": "markdown",
   "metadata": {},
   "source": [
    "- __Word Normalizer__"
   ]
  },
  {
   "cell_type": "code",
   "execution_count": 4,
   "metadata": {
    "id": "iwjynXJm9JV5"
   },
   "outputs": [],
   "source": [
    "def normalizer(tweet):\n",
    "    no_urls = re.sub(r\"http\\S+\", \" \" ,tweet)\n",
    "    only_letters = re.sub(\"[^a-zA-Z]\", \" \",no_urls)\n",
    "    return only_letters"
   ]
  },
  {
   "cell_type": "code",
   "execution_count": 5,
   "metadata": {
    "id": "LQD6Nxp0ed7U"
   },
   "outputs": [],
   "source": [
    "%run -i 'bert_encode.py'\n",
    "# def bert_encode(texts, tokenizer, max_len=128):\n",
    "#     all_tokens = []\n",
    "#     all_masks = []\n",
    "#     all_segments = []\n",
    "    \n",
    "#     for text in texts:\n",
    "#         text = tokenizer.tokenize(text)\n",
    "            \n",
    "#         text = text[:max_len-2]\n",
    "#         input_sequence = [\"[CLS]\"] + text + [\"[SEP]\"]\n",
    "#         pad_len = max_len - len(input_sequence)\n",
    "        \n",
    "#         tokens = tokenizer.convert_tokens_to_ids(input_sequence)\n",
    "#         tokens += [0] * pad_len\n",
    "#         pad_masks = [1] * len(input_sequence) + [0] * pad_len\n",
    "#         segment_ids = [0] * max_len\n",
    "        \n",
    "#         all_tokens.append(tokens)\n",
    "#         all_masks.append(pad_masks)\n",
    "#         all_segments.append(segment_ids)\n",
    "    \n",
    "#     return np.array(all_tokens), np.array(all_masks), np.array(all_segments)"
   ]
  },
  {
   "cell_type": "markdown",
   "metadata": {},
   "source": [
    "#### Import the data file"
   ]
  },
  {
   "cell_type": "code",
   "execution_count": 6,
   "metadata": {
    "id": "_tqJLBJKe549"
   },
   "outputs": [],
   "source": [
    "data = pd.read_csv(\"./input/goodbad.csv\")\n",
    "\n",
    "data['tweets'] =data['tweets'].apply(normalizer)"
   ]
  },
  {
   "cell_type": "code",
   "execution_count": 7,
   "metadata": {
    "id": "R-K2m0Lu-Ltd"
   },
   "outputs": [],
   "source": [
    "train=data.sample(frac=0.85,random_state=31415) #random state is a seed value\n",
    "test=data.drop(train.index)"
   ]
  },
  {
   "cell_type": "code",
   "execution_count": 8,
   "metadata": {
    "id": "9G9A028mdsBw"
   },
   "outputs": [],
   "source": [
    "#Loding pretrained bert layer\n",
    "BertTokenizer = bert.bert_tokenization.FullTokenizer\n",
    "bert_layer = hub.KerasLayer(\"https://tfhub.dev/tensorflow/bert_en_uncased_L-12_H-768_A-12/1\",\n",
    "                            trainable=False)"
   ]
  },
  {
   "cell_type": "code",
   "execution_count": 9,
   "metadata": {
    "id": "mt1ke60Xd5CU"
   },
   "outputs": [],
   "source": [
    "# Loading tokenizer from the bert layer\n",
    "vocab_file = bert_layer.resolved_object.vocab_file.asset_path.numpy()\n",
    "do_lower_case = bert_layer.resolved_object.do_lower_case.numpy()\n",
    "tokenizer = BertTokenizer(vocab_file, do_lower_case)"
   ]
  },
  {
   "cell_type": "code",
   "execution_count": 10,
   "metadata": {
    "id": "cB2uxARye2_4"
   },
   "outputs": [],
   "source": [
    "MAX_LEN = 128\n",
    "\n",
    "# encode train set \n",
    "train_input = bert_encode(train['tweets'], tokenizer, max_len=MAX_LEN)\n",
    "# encode  test set \n",
    "test_input = bert_encode(test['tweets'], tokenizer, max_len= MAX_LEN )\n",
    "train_labels = train['label']"
   ]
  },
  {
   "cell_type": "code",
   "execution_count": 11,
   "metadata": {
    "colab": {
     "base_uri": "https://localhost:8080/"
    },
    "id": "pe4ZkjdWh7in",
    "outputId": "2c09d18d-e2c6-4f28-aee3-f06e664ff747"
   },
   "outputs": [
    {
     "name": "stdout",
     "output_type": "stream",
     "text": [
      "Model: \"model\"\n",
      "__________________________________________________________________________________________________\n",
      "Layer (type)                    Output Shape         Param #     Connected to                     \n",
      "==================================================================================================\n",
      "input_word_ids (InputLayer)     [(None, 128)]        0                                            \n",
      "__________________________________________________________________________________________________\n",
      "input_mask (InputLayer)         [(None, 128)]        0                                            \n",
      "__________________________________________________________________________________________________\n",
      "segment_ids (InputLayer)        [(None, 128)]        0                                            \n",
      "__________________________________________________________________________________________________\n",
      "keras_layer (KerasLayer)        [(None, 768), (None, 109482241   input_word_ids[0][0]             \n",
      "                                                                 input_mask[0][0]                 \n",
      "                                                                 segment_ids[0][0]                \n",
      "__________________________________________________________________________________________________\n",
      "tf.__operators__.getitem (Slici (None, 768)          0           keras_layer[0][1]                \n",
      "__________________________________________________________________________________________________\n",
      "dense (Dense)                   (None, 256)          196864      tf.__operators__.getitem[0][0]   \n",
      "__________________________________________________________________________________________________\n",
      "dense_1 (Dense)                 (None, 1)            257         dense[0][0]                      \n",
      "==================================================================================================\n",
      "Total params: 109,679,362\n",
      "Trainable params: 197,121\n",
      "Non-trainable params: 109,482,241\n",
      "__________________________________________________________________________________________________\n"
     ]
    }
   ],
   "source": [
    "#create keras input\n",
    "input_word_ids = Input(shape=(MAX_LEN,), dtype=tf.int32, name=\"input_word_ids\")\n",
    "input_mask = Input(shape=(MAX_LEN,), dtype=tf.int32, name=\"input_mask\")\n",
    "segment_ids = Input(shape=(MAX_LEN,), dtype=tf.int32, name=\"segment_ids\")\n",
    "\n",
    "#add keras layers\n",
    "pooled_output, sequence_output = bert_layer([input_word_ids, input_mask, segment_ids])  \n",
    "layer1 = sequence_output[:, 0, :]\n",
    "layer2 = tf.keras.layers.Dense(256, activation=tf.nn.relu)(layer1)#add layers here\n",
    "out = Dense(1, activation='sigmoid')(layer2)   \n",
    "\n",
    "# intilize model\n",
    "model = Model(inputs=[input_word_ids, input_mask, segment_ids], outputs=out)\n",
    "model.compile(Adam(lr=5e-4), loss='binary_crossentropy', metrics=['accuracy' ,'mse'])\n",
    "model.summary()"
   ]
  },
  {
   "cell_type": "code",
   "execution_count": 12,
   "metadata": {
    "colab": {
     "base_uri": "https://localhost:8080/"
    },
    "id": "frTbHGRFs0qd",
    "outputId": "768d03ca-d74f-4341-9456-19d2d91fcffa"
   },
   "outputs": [
    {
     "name": "stdout",
     "output_type": "stream",
     "text": [
      "Epoch 1/4\n",
      "187/187 [==============================] - 1854s 10s/step - loss: 0.4491 - accuracy: 0.7919 - mse: 0.1453 - val_loss: 0.3128 - val_accuracy: 0.8750 - val_mse: 0.0946\n",
      "Epoch 2/4\n",
      "187/187 [==============================] - 1758s 9s/step - loss: 0.3214 - accuracy: 0.8689 - mse: 0.0971 - val_loss: 0.2949 - val_accuracy: 0.8750 - val_mse: 0.0896\n",
      "Epoch 3/4\n",
      "187/187 [==============================] - 1829s 10s/step - loss: 0.2875 - accuracy: 0.8856 - mse: 0.0871 - val_loss: 0.3001 - val_accuracy: 0.8697 - val_mse: 0.0928\n",
      "Epoch 4/4\n",
      "187/187 [==============================] - 1798s 10s/step - loss: 0.2730 - accuracy: 0.8902 - mse: 0.0824 - val_loss: 0.2873 - val_accuracy: 0.8811 - val_mse: 0.0871\n"
     ]
    }
   ],
   "source": [
    "# train\n",
    "train_history = model.fit(\n",
    "    train_input, train_labels,\n",
    "    validation_split=0.18,\n",
    "    epochs=4,\n",
    "    batch_size=32\n",
    ")"
   ]
  },
  {
   "cell_type": "code",
   "execution_count": 13,
   "metadata": {
    "colab": {
     "base_uri": "https://localhost:8080/",
     "height": 332
    },
    "id": "N2EaHGhgsQln",
    "outputId": "415f464e-d5a6-4fa9-f736-304e85431e84"
   },
   "outputs": [
    {
     "data": {
      "image/png": "[encoded data removed]",
      "text/plain": [
       "<Figure size 432x288 with 1 Axes>"
      ]
     },
     "metadata": {
      "needs_background": "light"
     },
     "output_type": "display_data"
    },
    {
     "name": "stdout",
     "output_type": "stream",
     "text": [
      "41/41 [==============================] - 24s 595ms/step - loss: 0.3185 - accuracy: 0.8694 - mse: 0.0986\n"
     ]
    },
    {
     "data": {
      "text/plain": [
       "[0.31846529245376587, 0.8693623542785645, 0.09858082979917526]"
      ]
     },
     "execution_count": 13,
     "metadata": {},
     "output_type": "execute_result"
    }
   ],
   "source": [
    "plotLoss(train_history)\n",
    "model.evaluate(test_input,test[\"label\"])"
   ]
  },
  {
   "cell_type": "code",
   "execution_count": 14,
   "metadata": {
    "colab": {
     "base_uri": "https://localhost:8080/"
    },
    "id": "vKjQOy7iRyCd",
    "outputId": "03d0ed53-ef4b-414a-d8f5-5429afccd888"
   },
   "outputs": [
    {
     "name": "stdout",
     "output_type": "stream",
     "text": [
      "WARNING:tensorflow:From C:\\Users\\donag\\AppData\\Roaming\\Python\\Python37\\site-packages\\tensorflow\\python\\training\\tracking\\tracking.py:111: Model.state_updates (from tensorflow.python.keras.engine.training) is deprecated and will be removed in a future version.\n",
      "Instructions for updating:\n",
      "This property should not be used in TensorFlow 2.0, as updates are applied automatically.\n"
     ]
    },
    {
     "name": "stderr",
     "output_type": "stream",
     "text": [
      "WARNING:tensorflow:From C:\\Users\\donag\\AppData\\Roaming\\Python\\Python37\\site-packages\\tensorflow\\python\\training\\tracking\\tracking.py:111: Model.state_updates (from tensorflow.python.keras.engine.training) is deprecated and will be removed in a future version.\n",
      "Instructions for updating:\n",
      "This property should not be used in TensorFlow 2.0, as updates are applied automatically.\n"
     ]
    },
    {
     "name": "stdout",
     "output_type": "stream",
     "text": [
      "WARNING:tensorflow:From C:\\Users\\donag\\AppData\\Roaming\\Python\\Python37\\site-packages\\tensorflow\\python\\training\\tracking\\tracking.py:111: Layer.updates (from tensorflow.python.keras.engine.base_layer) is deprecated and will be removed in a future version.\n",
      "Instructions for updating:\n",
      "This property should not be used in TensorFlow 2.0, as updates are applied automatically.\n"
     ]
    },
    {
     "name": "stderr",
     "output_type": "stream",
     "text": [
      "WARNING:tensorflow:From C:\\Users\\donag\\AppData\\Roaming\\Python\\Python37\\site-packages\\tensorflow\\python\\training\\tracking\\tracking.py:111: Layer.updates (from tensorflow.python.keras.engine.base_layer) is deprecated and will be removed in a future version.\n",
      "Instructions for updating:\n",
      "This property should not be used in TensorFlow 2.0, as updates are applied automatically.\n"
     ]
    },
    {
     "name": "stdout",
     "output_type": "stream",
     "text": [
      "INFO:tensorflow:Assets written to: goodbad\\assets\n"
     ]
    },
    {
     "name": "stderr",
     "output_type": "stream",
     "text": [
      "INFO:tensorflow:Assets written to: goodbad\\assets\n"
     ]
    }
   ],
   "source": [
    "model.save('goodbad')"
   ]
  },
  {
   "cell_type": "code",
   "execution_count": 16,
   "metadata": {
    "id": "xNHzTd53OkUv"
   },
   "outputs": [],
   "source": [
    "data2 = pd.read_csv(\"./input/urgentrelaxed.csv\")\n",
    "\n",
    "data2['tweets'] =data2['tweets'].apply(normalizer)"
   ]
  },
  {
   "cell_type": "code",
   "execution_count": 17,
   "metadata": {
    "id": "_tmWDNBTO4Bc"
   },
   "outputs": [],
   "source": [
    "train2=data2.sample(frac=0.85,random_state=31415) #random state is a seed value\n",
    "test2=data2.drop(train2.index)"
   ]
  },
  {
   "cell_type": "code",
   "execution_count": 18,
   "metadata": {
    "id": "tjRe_MG2PuCY"
   },
   "outputs": [],
   "source": [
    "MAX_LEN = 128\n",
    "\n",
    "# encode train set \n",
    "train_input2 = bert_encode(train2['tweets'], tokenizer, max_len=MAX_LEN)\n",
    "# encode  test set \n",
    "test_input2 = bert_encode(test2['tweets'], tokenizer, max_len= MAX_LEN )\n",
    "train_labels2 = train2['label']"
   ]
  },
  {
   "cell_type": "code",
   "execution_count": 19,
   "metadata": {
    "colab": {
     "base_uri": "https://localhost:8080/"
    },
    "id": "oXPbTbYqQr-Q",
    "outputId": "073745da-cbd9-40ad-e7a7-41ad699378ba"
   },
   "outputs": [
    {
     "name": "stdout",
     "output_type": "stream",
     "text": [
      "Model: \"functional_3\"\n",
      "__________________________________________________________________________________________________\n",
      "Layer (type)                    Output Shape         Param #     Connected to                     \n",
      "==================================================================================================\n",
      "input_word_ids (InputLayer)     [(None, 128)]        0                                            \n",
      "__________________________________________________________________________________________________\n",
      "input_mask (InputLayer)         [(None, 128)]        0                                            \n",
      "__________________________________________________________________________________________________\n",
      "segment_ids (InputLayer)        [(None, 128)]        0                                            \n",
      "__________________________________________________________________________________________________\n",
      "keras_layer (KerasLayer)        [(None, 768), (None, 109482241   input_word_ids[0][0]             \n",
      "                                                                 input_mask[0][0]                 \n",
      "                                                                 segment_ids[0][0]                \n",
      "__________________________________________________________________________________________________\n",
      "tf_op_layer_strided_slice_1 (Te [(None, 768)]        0           keras_layer[1][1]                \n",
      "__________________________________________________________________________________________________\n",
      "dense_2 (Dense)                 (None, 256)          196864      tf_op_layer_strided_slice_1[0][0]\n",
      "__________________________________________________________________________________________________\n",
      "dense_3 (Dense)                 (None, 1)            257         dense_2[0][0]                    \n",
      "==================================================================================================\n",
      "Total params: 109,679,362\n",
      "Trainable params: 197,121\n",
      "Non-trainable params: 109,482,241\n",
      "__________________________________________________________________________________________________\n"
     ]
    }
   ],
   "source": [
    "#create keras input\n",
    "input_word_ids = Input(shape=(MAX_LEN,), dtype=tf.int32, name=\"input_word_ids\")\n",
    "input_mask = Input(shape=(MAX_LEN,), dtype=tf.int32, name=\"input_mask\")\n",
    "segment_ids = Input(shape=(MAX_LEN,), dtype=tf.int32, name=\"segment_ids\")\n",
    "\n",
    "#add keras layers\n",
    "pooled_output, sequence_output = bert_layer([input_word_ids, input_mask, segment_ids])  \n",
    "layer1 = sequence_output[:, 0, :]\n",
    "layer2 = tf.keras.layers.Dense(256, activation=tf.nn.relu)(layer1)#add layers here\n",
    "out = Dense(1, activation='sigmoid')(layer2)   \n",
    "\n",
    "# intilize model\n",
    "model2 = Model(inputs=[input_word_ids, input_mask, segment_ids], outputs=out)\n",
    "model2.compile(Adam(lr=5e-4), loss='binary_crossentropy', metrics=['accuracy' ,'mse'])\n",
    "model2.summary()"
   ]
  },
  {
   "cell_type": "code",
   "execution_count": 20,
   "metadata": {
    "colab": {
     "base_uri": "https://localhost:8080/"
    },
    "id": "_kCN7OUYQrsb",
    "outputId": "b2852eac-71f7-4f87-9ed6-6cb4e3d90196"
   },
   "outputs": [
    {
     "name": "stdout",
     "output_type": "stream",
     "text": [
      "Epoch 1/4\n",
      "127/127 [==============================] - 97s 762ms/step - loss: 0.4271 - accuracy: 0.7990 - mse: 0.1379 - val_loss: 0.3577 - val_accuracy: 0.8225 - val_mse: 0.1147\n",
      "Epoch 2/4\n",
      "127/127 [==============================] - 96s 752ms/step - loss: 0.3164 - accuracy: 0.8621 - mse: 0.0984 - val_loss: 0.3033 - val_accuracy: 0.8607 - val_mse: 0.0950\n",
      "Epoch 3/4\n",
      "127/127 [==============================] - 96s 752ms/step - loss: 0.2815 - accuracy: 0.8809 - mse: 0.0868 - val_loss: 0.3235 - val_accuracy: 0.8494 - val_mse: 0.1033\n",
      "Epoch 4/4\n",
      "127/127 [==============================] - 96s 752ms/step - loss: 0.2631 - accuracy: 0.8875 - mse: 0.0805 - val_loss: 0.2829 - val_accuracy: 0.8629 - val_mse: 0.0900\n"
     ]
    }
   ],
   "source": [
    "# train\n",
    "train_history2 = model2.fit(\n",
    "    train_input2, train_labels2,\n",
    "    validation_split=0.18,\n",
    "    epochs=4,\n",
    "    batch_size=32\n",
    ")"
   ]
  },
  {
   "cell_type": "code",
   "execution_count": 21,
   "metadata": {
    "colab": {
     "base_uri": "https://localhost:8080/",
     "height": 332
    },
    "id": "RnIJnijpSQWs",
    "outputId": "1a12a583-ce95-499c-8df4-6862ce9ee8cc"
   },
   "outputs": [
    {
     "data": {
      "image/png": "[encoded data removed]",
      "text/plain": [
       "<Figure size 432x288 with 1 Axes>"
      ]
     },
     "metadata": {
      "needs_background": "light"
     },
     "output_type": "display_data"
    },
    {
     "name": "stdout",
     "output_type": "stream",
     "text": [
      "28/28 [==============================] - 16s 584ms/step - loss: 0.3449 - accuracy: 0.8499 - mse: 0.1066\n"
     ]
    },
    {
     "data": {
      "text/plain": [
       "[0.34487268328666687, 0.8499427437782288, 0.10659082978963852]"
      ]
     },
     "execution_count": 21,
     "metadata": {},
     "output_type": "execute_result"
    }
   ],
   "source": [
    "plotLoss(train_history2)\n",
    "model2.evaluate(test_input2,test2[\"label\"])"
   ]
  },
  {
   "cell_type": "code",
   "execution_count": 22,
   "metadata": {
    "colab": {
     "base_uri": "https://localhost:8080/"
    },
    "id": "OSyM_CxxSV_Q",
    "outputId": "a15033b0-8dab-4c69-eab6-1e5f11fdc7ff"
   },
   "outputs": [
    {
     "name": "stdout",
     "output_type": "stream",
     "text": [
      "INFO:tensorflow:Assets written to: urgency\\assets\n"
     ]
    },
    {
     "name": "stderr",
     "output_type": "stream",
     "text": [
      "INFO:tensorflow:Assets written to: urgency\\assets\n"
     ]
    }
   ],
   "source": [
    "model2.save('urgency')"
   ]
  },
  {
   "cell_type": "code",
   "execution_count": 24,
   "metadata": {
    "colab": {
     "base_uri": "https://localhost:8080/"
    },
    "id": "JuXSavQyOFxP",
    "outputId": "42794e33-2cf0-4d70-a186-0f8c7faf2183"
   },
   "outputs": [
    {
     "data": {
      "text/plain": [
       "(array([[0.2782949]], dtype=float32), array([[0.9343576]], dtype=float32))"
      ]
     },
     "execution_count": 24,
     "metadata": {},
     "output_type": "execute_result"
    }
   ],
   "source": [
    "#!pip install bert-for-tf2\n",
    "#!pip install sentencepiece\n",
    "\n",
    "import numpy as np\n",
    "import pandas as pd\n",
    "import tensorflow as tf\n",
    "\n",
    "from tensorflow import keras\n",
    "import tensorflow_hub as hub\n",
    "from tensorflow.keras import layers\n",
    "import bert\n",
    "\n",
    "import string\n",
    "import re\n",
    "\n",
    "def normalizer(tweet):\n",
    "    no_urls = re.sub(r\"http\\S+\", \" \" ,tweet)\n",
    "    only_letters = re.sub(\"[^a-zA-Z]\", \" \",no_urls)\n",
    "    return only_letters\n",
    "\n",
    "def bert_encode(texts, tokenizer, max_len=128):\n",
    "    all_tokens = []\n",
    "    all_masks = []\n",
    "    all_segments = []\n",
    "    \n",
    "    for text in texts:\n",
    "        text = tokenizer.tokenize(text)\n",
    "            \n",
    "        text = text[:max_len-2]\n",
    "        input_sequence = [\"[CLS]\"] + text + [\"[SEP]\"]\n",
    "        pad_len = max_len - len(input_sequence)\n",
    "        \n",
    "        tokens = tokenizer.convert_tokens_to_ids(input_sequence)\n",
    "        tokens += [0] * pad_len\n",
    "        pad_masks = [1] * len(input_sequence) + [0] * pad_len\n",
    "        segment_ids = [0] * max_len\n",
    "        \n",
    "        all_tokens.append(tokens)\n",
    "        all_masks.append(pad_masks)\n",
    "        all_segments.append(segment_ids)\n",
    "    \n",
    "    return np.array(all_tokens), np.array(all_masks), np.array(all_segments)\n",
    "\n",
    "def predictOnText(text, model1, model2):\n",
    "\n",
    "  text = normalizer(text)\n",
    "\n",
    "  texts = [text]\n",
    "  pred_input = bert_encode(texts, tokenizer, max_len= MAX_LEN )\n",
    "\n",
    "  return model1.predict(pred_input), model2.predict(pred_input)\n",
    "\n",
    "  \n",
    "\n",
    "#Loding pretrained bert layer\n",
    "BertTokenizer = bert.bert_tokenization.FullTokenizer\n",
    "bert_layer = hub.KerasLayer(\"https://tfhub.dev/tensorflow/bert_en_uncased_L-12_H-768_A-12/1\",\n",
    "                            trainable=False)\n",
    "\n",
    "# Loading tokenizer from the bert layer\n",
    "vocab_file = bert_layer.resolved_object.vocab_file.asset_path.numpy()\n",
    "do_lower_case = bert_layer.resolved_object.do_lower_case.numpy()\n",
    "tokenizer = BertTokenizer(vocab_file, do_lower_case)\n",
    "\n",
    "MAX_LEN = 128\n",
    "\n",
    "goodbad = keras.models.load_model('./goodbad')\n",
    "urgency = keras.models.load_model('./urgency')\n",
    "\n",
    "sample = \"This a great sample text, that you must text now!\"\n",
    "predictOnText(sample , goodbad, urgency)"
   ]
  },
  {
   "cell_type": "code",
   "execution_count": 25,
   "metadata": {
    "colab": {
     "base_uri": "https://localhost:8080/"
    },
    "id": "g9AJJmkaciB6",
    "outputId": "9ba68cc4-8ba6-4bea-abe0-f2febedfc095"
   },
   "outputs": [
    {
     "data": {
      "text/plain": [
       "(array([[0.9104377]], dtype=float32), array([[0.06078823]], dtype=float32))"
      ]
     },
     "execution_count": 25,
     "metadata": {},
     "output_type": "execute_result"
    }
   ],
   "source": [
    "sample = 'Would you like to eat some ice cream'\n",
    "predictOnText(sample , goodbad, urgency)"
   ]
  },
  {
   "cell_type": "code",
   "execution_count": null,
   "metadata": {},
   "outputs": [],
   "source": []
  }
 ],
 "metadata": {
  "accelerator": "GPU",
  "colab": {
   "collapsed_sections": [],
   "name": "NLP with BERT.ipynb",
   "provenance": []
  },
  "kernelspec": {
   "display_name": "Python 3",
   "language": "python",
   "name": "python3"
  },
  "language_info": {
   "codemirror_mode": {
    "name": "ipython",
    "version": 3
   },
   "file_extension": ".py",
   "mimetype": "text/x-python",
   "name": "python",
   "nbconvert_exporter": "python",
   "pygments_lexer": "ipython3",
   "version": "3.8.5"
  }
 },
 "nbformat": 4,
 "nbformat_minor": 4
}
