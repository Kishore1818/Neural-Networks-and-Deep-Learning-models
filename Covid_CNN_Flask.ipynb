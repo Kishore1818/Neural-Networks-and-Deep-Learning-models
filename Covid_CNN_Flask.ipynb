{
 "cells": [
  {
   "cell_type": "markdown",
   "metadata": {},
   "source": [
    "**Deploying the CNN model using Flask**\n",
    "\n",
    "- __Import Libraries__"
   ]
  },
  {
   "cell_type": "code",
   "execution_count": 1,
   "metadata": {
    "id": "tqf0qxdOSx33"
   },
   "outputs": [],
   "source": [
    "from flask import Flask, request, render_template\n",
    "\n",
    "import tensorflow as tf\n",
    "from tensorflow import keras\n",
    "from tensorflow.keras.preprocessing.text import Tokenizer\n",
    "\n",
    "import numpy as np\n",
    "import pandas as pd\n",
    "import matplotlib.pyplot as plt\n",
    "\n",
    "import re\n",
    "import nltk\n",
    "import string\n",
    "from nltk.stem import WordNetLemmatizer\n",
    "from nltk.corpus import stopwords\n",
    "import dill\n",
    "import pickle"
   ]
  },
  {
   "cell_type": "code",
   "execution_count": 2,
   "metadata": {
    "colab": {
     "base_uri": "https://localhost:8080/",
     "height": 319
    },
    "id": "FXkuFRKuSx4N",
    "outputId": "50f1d169-d399-4a0a-8e04-46147e647063"
   },
   "outputs": [],
   "source": [
    "from flask_ngrok import run_with_ngrok"
   ]
  },
  {
   "cell_type": "code",
   "execution_count": 3,
   "metadata": {
    "id": "q7SJbbE9Sx4o"
   },
   "outputs": [],
   "source": [
    "import pickle\n",
    "\n",
    "from tensorflow.keras.models import Sequential, Model\n",
    "from tensorflow.keras.layers import Dense\n",
    "from tensorflow.python.keras.layers import deserialize, serialize\n",
    "from tensorflow.python.keras.saving import saving_utils\n",
    "\n",
    "def unpack(model, training_config, weights):\n",
    "    restored_model = deserialize(model)\n",
    "    if training_config is not None:\n",
    "        restored_model.compile(\n",
    "            **saving_utils.compile_args_from_training_config(\n",
    "                training_config\n",
    "            )\n",
    "        )\n",
    "    restored_model.set_weights(weights)\n",
    "    return restored_model\n",
    "\n",
    "# Hotfix function\n",
    "def make_keras_picklable():\n",
    "\n",
    "    def __reduce__(self):\n",
    "        model_metadata = saving_utils.model_metadata(self)\n",
    "        training_config = model_metadata.get(\"training_config\", None)\n",
    "        model = serialize(self)\n",
    "        weights = self.get_weights()\n",
    "        return (unpack, (model, training_config, weights))\n",
    "\n",
    "    cls = Model\n",
    "    cls.__reduce__ = __reduce__"
   ]
  },
  {
   "cell_type": "markdown",
   "metadata": {},
   "source": [
    "- __Load the model pickle file__"
   ]
  },
  {
   "cell_type": "code",
   "execution_count": 4,
   "metadata": {
    "id": "yx1qEBcVSx43",
    "outputId": "dcd17268-39ae-4f8f-c740-761a481a14a5"
   },
   "outputs": [
    {
     "name": "stdout",
     "output_type": "stream",
     "text": [
      "Model: \"sequential\"\n",
      "_________________________________________________________________\n",
      "Layer (type)                 Output Shape              Param #   \n",
      "=================================================================\n",
      "rescaling_1 (Rescaling)      (None, 64, 64, 3)         0         \n",
      "_________________________________________________________________\n",
      "conv2d (Conv2D)              (None, 64, 64, 16)        448       \n",
      "_________________________________________________________________\n",
      "max_pooling2d (MaxPooling2D) (None, 32, 32, 16)        0         \n",
      "_________________________________________________________________\n",
      "conv2d_1 (Conv2D)            (None, 32, 32, 32)        4640      \n",
      "_________________________________________________________________\n",
      "max_pooling2d_1 (MaxPooling2 (None, 16, 16, 32)        0         \n",
      "_________________________________________________________________\n",
      "conv2d_2 (Conv2D)            (None, 16, 16, 64)        18496     \n",
      "_________________________________________________________________\n",
      "max_pooling2d_2 (MaxPooling2 (None, 8, 8, 64)          0         \n",
      "_________________________________________________________________\n",
      "conv2d_3 (Conv2D)            (None, 8, 8, 128)         73856     \n",
      "_________________________________________________________________\n",
      "max_pooling2d_3 (MaxPooling2 (None, 4, 4, 128)         0         \n",
      "_________________________________________________________________\n",
      "flatten (Flatten)            (None, 2048)              0         \n",
      "_________________________________________________________________\n",
      "dense (Dense)                (None, 512)               1049088   \n",
      "_________________________________________________________________\n",
      "dropout (Dropout)            (None, 512)               0         \n",
      "_________________________________________________________________\n",
      "dense_1 (Dense)              (None, 5)                 2565      \n",
      "=================================================================\n",
      "Total params: 1,149,093\n",
      "Trainable params: 1,149,093\n",
      "Non-trainable params: 0\n",
      "_________________________________________________________________\n"
     ]
    }
   ],
   "source": [
    "model = keras.models.load_model(\"/Users/preethamvignesh/Desktop/Work/ML_EIT/TF_CNN_image/\")\n",
    "\n",
    "with open(\"/Users/preethamvignesh/Desktop/Work/ML_EIT/TF_CNN_image/tfmodel.pkl\", \"rb\") as fname:\n",
    "    tfmodelnew = pickle.load(fname)\n",
    "\n",
    "# Define some parameters for the loader:\n",
    "batch_size = 32\n",
    "img_height = 64\n",
    "img_width = 64\n",
    "class_names = ['CT_COVID', 'CT_NonCOVID'] \n",
    "tfmodelnew.summary()"
   ]
  },
  {
   "cell_type": "markdown",
   "metadata": {},
   "source": [
    "**Predict the Covid/NonCovid from the local Image file**"
   ]
  },
  {
   "cell_type": "code",
   "execution_count": 5,
   "metadata": {
    "id": "Luov1WVESx5F",
    "outputId": "d7a2511d-12f2-4b7a-dac3-1a598cd89bf1"
   },
   "outputs": [
    {
     "name": "stdout",
     "output_type": "stream",
     "text": [
      "This image most likely belongs to CT_COVID with a 78.03 percent confidence.\n"
     ]
    },
    {
     "data": {
      "image/png": "[encoded data removed]",
      "text/plain": [
       "<Figure size 432x288 with 1 Axes>"
      ]
     },
     "metadata": {
      "needs_background": "light"
     },
     "output_type": "display_data"
    },
    {
     "data": {
      "text/plain": [
       "'tf.Tensor([7.8031087e-01 2.1966848e-01 5.3165422e-06 7.9437523e-06 7.4548971e-06], shape=(5,), dtype=float32)'"
      ]
     },
     "execution_count": 5,
     "metadata": {},
     "output_type": "execute_result"
    }
   ],
   "source": [
    "def predimg(timg):\n",
    "    img = keras.preprocessing.image.load_img(timg, target_size=(img_height, img_width))\n",
    "    plt.imshow(img, cmap=plt.cm.binary)\n",
    "    plt.axis(\"off\")\n",
    "\n",
    "    image1 = np.array(img).reshape((1,img_height,img_width,3))\n",
    "    #print(image.shape,image1.shape)\n",
    "    prediction = tfmodelnew.predict(image1)\n",
    "    #print(prediction.shape)\n",
    "\n",
    "    score = tf.nn.softmax(prediction[0])\n",
    "    print(\"This image most likely belongs to {} with a {:.2f} percent confidence.\"\n",
    "          .format(class_names[np.argmax(score)], 100 * np.max(score)))\n",
    "    plt.show()\n",
    "    \n",
    "    return str(score)\n",
    "\n",
    "timgg = \"/Users/preethamvignesh/Desktop/Work/ML_EIT/Data/CT_COVID-Raw/CT_COVID/covid_45.jpg\"\n",
    "predimg(timgg)"
   ]
  },
  {
   "cell_type": "code",
   "execution_count": 6,
   "metadata": {
    "id": "JhgbhHdtSx5T"
   },
   "outputs": [],
   "source": [
    "app = Flask(__name__, template_folder='/Users/preethamvignesh/Desktop/Work/ML_EIT/TF_CNN_image/Templates')"
   ]
  },
  {
   "cell_type": "code",
   "execution_count": 7,
   "metadata": {
    "id": "O4pKavkBSx5l",
    "outputId": "3ec1758d-f12d-4ebf-97ff-80855816927e"
   },
   "outputs": [],
   "source": [
    "\n",
    "from flask import Flask, render_template, request \n",
    "# from werkzeug import secure_filename \n",
    "from werkzeug.utils import secure_filename\n",
    "from keras.preprocessing.image import ImageDataGenerator \n",
    "import tensorflow as tf \n",
    "import numpy as np \n",
    "import os  \n",
    "  \n",
    "try: \n",
    "    import shutil \n",
    "    shutil.rmtree('uploaded / image') \n",
    "    % cd uploaded % mkdir image % cd .. \n",
    "    print() \n",
    "except: \n",
    "    pass\n",
    "\n",
    "def predimg(timg):\n",
    "    test_dir = 'uploaded'\n",
    "    img = keras.preprocessing.image.load_img(timg, target_size=(img_height, img_width))\n",
    "    plt.imshow(img, cmap=plt.cm.binary)\n",
    "    plt.axis(\"off\")\n",
    "\n",
    "    image1 = np.array(img).reshape((1,img_height,img_width,3))\n",
    "    #print(image.shape,image1.shape)\n",
    "    prediction = tfmodelnew.predict(image1)\n",
    "    #print(prediction.shape)\n",
    "\n",
    "    score = tf.nn.softmax(prediction[0])\n",
    "    score1 = class_names[np.argmax(score)]\n",
    "#     print(score1)\n",
    "#     print(\"This image most likely belongs to {} with a {:.2f} percent confidence.\"\n",
    "#           .format(class_names[np.argmax(score)], 100 * np.max(score)))\n",
    "# #     plt.show()\n",
    "    \n",
    "#     return str(score1)\n",
    "    return (\"This image most likely belongs to {} with a {:.2f} percent confidence.\"\n",
    "          .format(class_names[np.argmax(score)], 100 * np.max(score)))\n",
    "  \n",
    "  \n",
    "app.config['UPLOAD_FOLDER'] = '/Users/preethamvignesh/Desktop/Work/ML_EIT/TF_CNN_image/uploads'\n",
    "  \n",
    "@app.route('/',methods=['POST','GET']) \n",
    "def upload_f(): \n",
    "    \n",
    "    message=\"\"\n",
    "    if request.method == 'POST': \n",
    "        f = request.files['file'] \n",
    "        filename = secure_filename(f.filename)\n",
    "        f.save(os.path.join(app.config['UPLOAD_FOLDER'], filename)) \n",
    "        message = predimg(os.path.join(app.config['UPLOAD_FOLDER'], filename))\n",
    "\n",
    "    return render_template('upload.html', message=message) \n"
   ]
  },
  {
   "cell_type": "code",
   "execution_count": 8,
   "metadata": {},
   "outputs": [
    {
     "name": "stdout",
     "output_type": "stream",
     "text": [
      " * Serving Flask app \"__main__\" (lazy loading)\n",
      " * Environment: production\n",
      "\u001b[31m   WARNING: This is a development server. Do not use it in a production deployment.\u001b[0m\n",
      "\u001b[2m   Use a production WSGI server instead.\u001b[0m\n",
      " * Debug mode: off\n"
     ]
    },
    {
     "name": "stderr",
     "output_type": "stream",
     "text": [
      " * Running on http://127.0.0.1:5000/ (Press CTRL+C to quit)\n",
      "127.0.0.1 - - [14/Mar/2021 12:12:58] \"\u001b[37mGET / HTTP/1.1\u001b[0m\" 200 -\n",
      "127.0.0.1 - - [14/Mar/2021 12:12:58] \"\u001b[37mGET / HTTP/1.1\u001b[0m\" 200 -\n",
      "127.0.0.1 - - [14/Mar/2021 12:12:58] \"\u001b[33mGET /favicon.ico HTTP/1.1\u001b[0m\" 404 -\n",
      "127.0.0.1 - - [14/Mar/2021 12:13:06] \"\u001b[37mGET / HTTP/1.1\u001b[0m\" 200 -\n",
      "127.0.0.1 - - [14/Mar/2021 12:13:06] \"\u001b[37mGET / HTTP/1.1\u001b[0m\" 200 -\n",
      "127.0.0.1 - - [14/Mar/2021 12:13:13] \"\u001b[37mPOST / HTTP/1.1\u001b[0m\" 200 -\n",
      "127.0.0.1 - - [14/Mar/2021 12:13:13] \"\u001b[37mGET / HTTP/1.1\u001b[0m\" 200 -\n",
      "127.0.0.1 - - [14/Mar/2021 12:13:13] \"\u001b[33mGET /favicon.ico HTTP/1.1\u001b[0m\" 404 -\n"
     ]
    },
    {
     "data": {
      "image/png": "[encoded data removed]",
      "text/plain": [
       "<Figure size 432x288 with 1 Axes>"
      ]
     },
     "metadata": {
      "needs_background": "light"
     },
     "output_type": "display_data"
    }
   ],
   "source": [
    "app.run()"
   ]
  },
  {
   "cell_type": "code",
   "execution_count": 9,
   "metadata": {
    "id": "gUQ5VFa5Sx5t"
   },
   "outputs": [],
   "source": [
    "# http://127.0.0.1:5000/"
   ]
  },
  {
   "cell_type": "code",
   "execution_count": null,
   "metadata": {
    "id": "uE9D32VZSx54"
   },
   "outputs": [],
   "source": [
    "\n"
   ]
  },
  {
   "cell_type": "code",
   "execution_count": null,
   "metadata": {
    "id": "4vThSeDKSx6H"
   },
   "outputs": [],
   "source": []
  }
 ],
 "metadata": {
  "colab": {
   "name": "TF_CNN_COVID_flask.ipynb",
   "provenance": []
  },
  "kernelspec": {
   "display_name": "Python 3",
   "language": "python",
   "name": "python3"
  },
  "language_info": {
   "codemirror_mode": {
    "name": "ipython",
    "version": 3
   },
   "file_extension": ".py",
   "mimetype": "text/x-python",
   "name": "python",
   "nbconvert_exporter": "python",
   "pygments_lexer": "ipython3",
   "version": "3.8.5"
  }
 },
 "nbformat": 4,
 "nbformat_minor": 1
}
